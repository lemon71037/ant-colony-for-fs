{
 "cells": [
  {
   "cell_type": "code",
   "execution_count": 16,
   "metadata": {},
   "outputs": [],
   "source": [
    "import pandas as pd\r\n",
    "from sklearn.model_selection import train_test_split\r\n",
    "import random\r\n",
    "import numpy as np\r\n",
    "from collections import Counter\r\n",
    "from tqdm import tqdm\r\n",
    "from sklearn import svm\r\n",
    "from numba import njit"
   ]
  },
  {
   "cell_type": "code",
   "execution_count": 14,
   "metadata": {},
   "outputs": [],
   "source": [
    "csv_path = 'E:/dataset/mdp_classify-master/MDP/KC1.csv'\r\n",
    "csv_data = pd.read_csv(csv_path)\r\n",
    "total_data, total_label = csv_data.iloc[:, :-1], csv_data.iloc[:, -1]\r\n",
    "total_label = [{'N':0, 'Y':1}[i] for i in total_label]\r\n",
    "train_data, test_data, train_label, test_label = train_test_split(total_data, total_label, test_size=0.2)"
   ]
  },
  {
   "cell_type": "code",
   "execution_count": 4,
   "metadata": {},
   "outputs": [],
   "source": [
    "from sklearn.metrics import confusion_matrix, accuracy_score\r\n",
    "def update_eta(train_data, train_label, test_data, test_label, tabu):\r\n",
    "    \"\"\"更新启发式信息, eta = TPR / d\r\n",
    "    Returns:\r\n",
    "        eta: 从tabu最后一个节点出发到其余节点的启发式信息\r\n",
    "    \"\"\"\r\n",
    "    n_dims = train_data.shape[1]\r\n",
    "    eta = np.zeros(n_dims)\r\n",
    "    flist = list(set(range(n_dims)) - set(tabu)) \r\n",
    "\r\n",
    "    for i in flist:\r\n",
    "        clf = svm.SVC(C=2, kernel='rbf', gamma=5, decision_function_shape='ovr')\r\n",
    "        clf.fit(train_data.iloc[:, tabu+[i]], train_label)\r\n",
    "        pred = clf.predict(test_data.iloc[:, tabu+[i]])\r\n",
    "        cf_matrix = confusion_matrix(test_label, pred)\r\n",
    "        FN, TP = cf_matrix[1][0], cf_matrix[1][1]\r\n",
    "        eta[i] = TP / (TP + FN) / (len(tabu)+1)\r\n",
    "\r\n",
    "    return eta\r\n"
   ]
  },
  {
   "cell_type": "code",
   "execution_count": 5,
   "metadata": {},
   "outputs": [],
   "source": [
    "def select_route(prob):\r\n",
    "    \"\"\"按路径转移概率选择下一个特征\r\n",
    "    \"\"\"\r\n",
    "    cs = np.cumsum(prob)\r\n",
    "    p = np.random.rand()\r\n",
    "    for i in range(len(cs)):\r\n",
    "        if cs[i] > p:\r\n",
    "            break\r\n",
    "    \r\n",
    "    return i\r\n"
   ]
  },
  {
   "cell_type": "code",
   "execution_count": 18,
   "metadata": {},
   "outputs": [],
   "source": [
    "def fitness_func(train_data, train_label, test_data, test_label, selected, omega=0.7):\r\n",
    "    \"\"\"适应度函数，评估特征子集好坏\r\n",
    "    Returns:\r\n",
    "        result: 适应度\r\n",
    "    \"\"\"\r\n",
    "    clf = svm.SVC(C=2, kernel='rbf', gamma=5, decision_function_shape='ovr')\r\n",
    "    clf.fit(train_data.iloc[:, selected], train_label)\r\n",
    "    pred = clf.predict(test_data.iloc[:, selected])\r\n",
    "\r\n",
    "    cf_matrix = confusion_matrix(test_label, pred)\r\n",
    "    TN, FP = cf_matrix[0][0], cf_matrix[0][1]\r\n",
    "    FPR = FP / (TN + FP)\r\n",
    "    f_result = omega*FPR + (1-omega)*(len(selected)/train_data.shape[1])\r\n",
    "    acc = accuracy_score(test_label, pred)\r\n",
    "    return f_result, acc\r\n"
   ]
  },
  {
   "cell_type": "code",
   "execution_count": 15,
   "metadata": {},
   "outputs": [
    {
     "name": "stderr",
     "output_type": "stream",
     "text": [
      "Epoch 1:   0%|                                                               | 0/10 [00:00<?, ?it/s]"
     ]
    },
    {
     "name": "stdout",
     "output_type": "stream",
     "text": [
      "the Num of the total features: 21\n"
     ]
    },
    {
     "name": "stderr",
     "output_type": "stream",
     "text": [
      "Epoch 1: 100%|██████████████████████████████████████████████████████| 10/10 [02:03<00:00, 12.35s/it]\n",
      "Epoch 2:   0%|                                                               | 0/10 [00:00<?, ?it/s]"
     ]
    },
    {
     "name": "stdout",
     "output_type": "stream",
     "text": [
      "Best Score: 0.2754983388704319, the Accuracy: 0.8436018957345972, Num of Features: 19\n"
     ]
    },
    {
     "name": "stderr",
     "output_type": "stream",
     "text": [
      "Epoch 2: 100%|██████████████████████████████████████████████████████| 10/10 [02:05<00:00, 12.52s/it]\n",
      "Epoch 3:   0%|                                                               | 0/10 [00:00<?, ?it/s]"
     ]
    },
    {
     "name": "stdout",
     "output_type": "stream",
     "text": [
      "Best Score: 0.2612126245847176, the Accuracy: 0.8412322274881516, Num of Features: 18\n"
     ]
    },
    {
     "name": "stderr",
     "output_type": "stream",
     "text": [
      "Epoch 3: 100%|██████████████████████████████████████████████████████| 10/10 [02:07<00:00, 12.79s/it]\n",
      "Epoch 4:   0%|                                                               | 0/10 [00:00<?, ?it/s]"
     ]
    },
    {
     "name": "stdout",
     "output_type": "stream",
     "text": [
      "Best Score: 0.2754983388704319, the Accuracy: 0.8436018957345972, Num of Features: 19\n"
     ]
    },
    {
     "name": "stderr",
     "output_type": "stream",
     "text": [
      "Epoch 4: 100%|██████████████████████████████████████████████████████| 10/10 [02:10<00:00, 13.10s/it]\n",
      "Epoch 5:   0%|                                                               | 0/10 [00:00<?, ?it/s]"
     ]
    },
    {
     "name": "stdout",
     "output_type": "stream",
     "text": [
      "Best Score: 0.26324750830564786, the Accuracy: 0.8412322274881516, Num of Features: 18\n"
     ]
    },
    {
     "name": "stderr",
     "output_type": "stream",
     "text": [
      "Epoch 5:  10%|█████▌                                                 | 1/10 [00:11<01:39, 11.09s/it]\n"
     ]
    },
    {
     "ename": "KeyboardInterrupt",
     "evalue": "",
     "output_type": "error",
     "traceback": [
      "\u001b[1;31m---------------------------------------------------------------------------\u001b[0m",
      "\u001b[1;31mKeyboardInterrupt\u001b[0m                         Traceback (most recent call last)",
      "\u001b[1;32m<ipython-input-15-f94866cb12df>\u001b[0m in \u001b[0;36m<module>\u001b[1;34m()\u001b[0m\n\u001b[0;32m     33\u001b[0m         \u001b[1;32mfor\u001b[0m \u001b[0md\u001b[0m \u001b[1;32min\u001b[0m \u001b[0mrange\u001b[0m\u001b[1;33m(\u001b[0m\u001b[0mn_feats\u001b[0m\u001b[1;33m[\u001b[0m\u001b[0mi\u001b[0m\u001b[1;33m]\u001b[0m\u001b[1;33m-\u001b[0m\u001b[1;36m1\u001b[0m\u001b[1;33m)\u001b[0m\u001b[1;33m:\u001b[0m               \u001b[1;31m# 共选择 n_feats-1 次特征\u001b[0m\u001b[1;33m\u001b[0m\u001b[1;33m\u001b[0m\u001b[0m\n\u001b[0;32m     34\u001b[0m             \u001b[0mvisited\u001b[0m\u001b[1;33m.\u001b[0m\u001b[0mappend\u001b[0m\u001b[1;33m(\u001b[0m\u001b[0mant_path\u001b[0m\u001b[1;33m[\u001b[0m\u001b[0mi\u001b[0m\u001b[1;33m,\u001b[0m \u001b[0md\u001b[0m\u001b[1;33m]\u001b[0m\u001b[1;33m)\u001b[0m          \u001b[1;31m# 更新 selected 表\u001b[0m\u001b[1;33m\u001b[0m\u001b[1;33m\u001b[0m\u001b[0m\n\u001b[1;32m---> 35\u001b[1;33m             \u001b[0meta\u001b[0m \u001b[1;33m=\u001b[0m \u001b[0mupdate_eta\u001b[0m\u001b[1;33m(\u001b[0m\u001b[0mtrain_data\u001b[0m\u001b[1;33m,\u001b[0m \u001b[0mtrain_label\u001b[0m\u001b[1;33m,\u001b[0m \u001b[0mtest_data\u001b[0m\u001b[1;33m,\u001b[0m \u001b[0mtest_label\u001b[0m\u001b[1;33m,\u001b[0m \u001b[0mvisited\u001b[0m\u001b[1;33m)\u001b[0m\u001b[1;33m\u001b[0m\u001b[1;33m\u001b[0m\u001b[0m\n\u001b[0m\u001b[0;32m     36\u001b[0m                                                     \u001b[1;31m# 更新启发式信息, eta = TPR / d, array(n_dims,)\u001b[0m\u001b[1;33m\u001b[0m\u001b[1;33m\u001b[0m\u001b[1;33m\u001b[0m\u001b[0m\n\u001b[0;32m     37\u001b[0m             \u001b[0mp\u001b[0m \u001b[1;33m=\u001b[0m \u001b[1;33m(\u001b[0m\u001b[0mtau\u001b[0m\u001b[1;33m[\u001b[0m\u001b[0mint\u001b[0m\u001b[1;33m(\u001b[0m\u001b[0mvisited\u001b[0m\u001b[1;33m[\u001b[0m\u001b[1;33m-\u001b[0m\u001b[1;36m1\u001b[0m\u001b[1;33m]\u001b[0m\u001b[1;33m)\u001b[0m\u001b[1;33m]\u001b[0m \u001b[1;33m**\u001b[0m \u001b[0malpha\u001b[0m\u001b[1;33m)\u001b[0m \u001b[1;33m*\u001b[0m \u001b[1;33m(\u001b[0m\u001b[0meta\u001b[0m \u001b[1;33m**\u001b[0m \u001b[0mbeta\u001b[0m\u001b[1;33m)\u001b[0m\u001b[1;33m\u001b[0m\u001b[1;33m\u001b[0m\u001b[0m\n",
      "\u001b[1;32m<ipython-input-4-a8cca319b69b>\u001b[0m in \u001b[0;36mupdate_eta\u001b[1;34m(train_data, train_label, test_data, test_label, tabu)\u001b[0m\n\u001b[0;32m     12\u001b[0m         \u001b[0mclf\u001b[0m \u001b[1;33m=\u001b[0m \u001b[0msvm\u001b[0m\u001b[1;33m.\u001b[0m\u001b[0mSVC\u001b[0m\u001b[1;33m(\u001b[0m\u001b[0mC\u001b[0m\u001b[1;33m=\u001b[0m\u001b[1;36m2\u001b[0m\u001b[1;33m,\u001b[0m \u001b[0mkernel\u001b[0m\u001b[1;33m=\u001b[0m\u001b[1;34m'rbf'\u001b[0m\u001b[1;33m,\u001b[0m \u001b[0mgamma\u001b[0m\u001b[1;33m=\u001b[0m\u001b[1;36m5\u001b[0m\u001b[1;33m,\u001b[0m \u001b[0mdecision_function_shape\u001b[0m\u001b[1;33m=\u001b[0m\u001b[1;34m'ovr'\u001b[0m\u001b[1;33m)\u001b[0m\u001b[1;33m\u001b[0m\u001b[1;33m\u001b[0m\u001b[0m\n\u001b[0;32m     13\u001b[0m         \u001b[0mclf\u001b[0m\u001b[1;33m.\u001b[0m\u001b[0mfit\u001b[0m\u001b[1;33m(\u001b[0m\u001b[0mtrain_data\u001b[0m\u001b[1;33m.\u001b[0m\u001b[0miloc\u001b[0m\u001b[1;33m[\u001b[0m\u001b[1;33m:\u001b[0m\u001b[1;33m,\u001b[0m \u001b[0mtabu\u001b[0m\u001b[1;33m+\u001b[0m\u001b[1;33m[\u001b[0m\u001b[0mi\u001b[0m\u001b[1;33m]\u001b[0m\u001b[1;33m]\u001b[0m\u001b[1;33m,\u001b[0m \u001b[0mtrain_label\u001b[0m\u001b[1;33m)\u001b[0m\u001b[1;33m\u001b[0m\u001b[1;33m\u001b[0m\u001b[0m\n\u001b[1;32m---> 14\u001b[1;33m         \u001b[0mpred\u001b[0m \u001b[1;33m=\u001b[0m \u001b[0mclf\u001b[0m\u001b[1;33m.\u001b[0m\u001b[0mpredict\u001b[0m\u001b[1;33m(\u001b[0m\u001b[0mtest_data\u001b[0m\u001b[1;33m.\u001b[0m\u001b[0miloc\u001b[0m\u001b[1;33m[\u001b[0m\u001b[1;33m:\u001b[0m\u001b[1;33m,\u001b[0m \u001b[0mtabu\u001b[0m\u001b[1;33m+\u001b[0m\u001b[1;33m[\u001b[0m\u001b[0mi\u001b[0m\u001b[1;33m]\u001b[0m\u001b[1;33m]\u001b[0m\u001b[1;33m)\u001b[0m\u001b[1;33m\u001b[0m\u001b[1;33m\u001b[0m\u001b[0m\n\u001b[0m\u001b[0;32m     15\u001b[0m         \u001b[0mcf_matrix\u001b[0m \u001b[1;33m=\u001b[0m \u001b[0mconfusion_matrix\u001b[0m\u001b[1;33m(\u001b[0m\u001b[0mtest_label\u001b[0m\u001b[1;33m,\u001b[0m \u001b[0mpred\u001b[0m\u001b[1;33m)\u001b[0m\u001b[1;33m\u001b[0m\u001b[1;33m\u001b[0m\u001b[0m\n\u001b[0;32m     16\u001b[0m         \u001b[0mFN\u001b[0m\u001b[1;33m,\u001b[0m \u001b[0mTP\u001b[0m \u001b[1;33m=\u001b[0m \u001b[0mcf_matrix\u001b[0m\u001b[1;33m[\u001b[0m\u001b[1;36m1\u001b[0m\u001b[1;33m]\u001b[0m\u001b[1;33m[\u001b[0m\u001b[1;36m0\u001b[0m\u001b[1;33m]\u001b[0m\u001b[1;33m,\u001b[0m \u001b[0mcf_matrix\u001b[0m\u001b[1;33m[\u001b[0m\u001b[1;36m1\u001b[0m\u001b[1;33m]\u001b[0m\u001b[1;33m[\u001b[0m\u001b[1;36m1\u001b[0m\u001b[1;33m]\u001b[0m\u001b[1;33m\u001b[0m\u001b[1;33m\u001b[0m\u001b[0m\n",
      "\u001b[1;32mD:\\Software\\Anaconda3\\envs\\torch\\lib\\site-packages\\sklearn\\svm\\_base.py\u001b[0m in \u001b[0;36mpredict\u001b[1;34m(self, X)\u001b[0m\n\u001b[0;32m    622\u001b[0m             \u001b[0my\u001b[0m \u001b[1;33m=\u001b[0m \u001b[0mnp\u001b[0m\u001b[1;33m.\u001b[0m\u001b[0margmax\u001b[0m\u001b[1;33m(\u001b[0m\u001b[0mself\u001b[0m\u001b[1;33m.\u001b[0m\u001b[0mdecision_function\u001b[0m\u001b[1;33m(\u001b[0m\u001b[0mX\u001b[0m\u001b[1;33m)\u001b[0m\u001b[1;33m,\u001b[0m \u001b[0maxis\u001b[0m\u001b[1;33m=\u001b[0m\u001b[1;36m1\u001b[0m\u001b[1;33m)\u001b[0m\u001b[1;33m\u001b[0m\u001b[1;33m\u001b[0m\u001b[0m\n\u001b[0;32m    623\u001b[0m         \u001b[1;32melse\u001b[0m\u001b[1;33m:\u001b[0m\u001b[1;33m\u001b[0m\u001b[1;33m\u001b[0m\u001b[0m\n\u001b[1;32m--> 624\u001b[1;33m             \u001b[0my\u001b[0m \u001b[1;33m=\u001b[0m \u001b[0msuper\u001b[0m\u001b[1;33m(\u001b[0m\u001b[1;33m)\u001b[0m\u001b[1;33m.\u001b[0m\u001b[0mpredict\u001b[0m\u001b[1;33m(\u001b[0m\u001b[0mX\u001b[0m\u001b[1;33m)\u001b[0m\u001b[1;33m\u001b[0m\u001b[1;33m\u001b[0m\u001b[0m\n\u001b[0m\u001b[0;32m    625\u001b[0m         \u001b[1;32mreturn\u001b[0m \u001b[0mself\u001b[0m\u001b[1;33m.\u001b[0m\u001b[0mclasses_\u001b[0m\u001b[1;33m.\u001b[0m\u001b[0mtake\u001b[0m\u001b[1;33m(\u001b[0m\u001b[0mnp\u001b[0m\u001b[1;33m.\u001b[0m\u001b[0masarray\u001b[0m\u001b[1;33m(\u001b[0m\u001b[0my\u001b[0m\u001b[1;33m,\u001b[0m \u001b[0mdtype\u001b[0m\u001b[1;33m=\u001b[0m\u001b[0mnp\u001b[0m\u001b[1;33m.\u001b[0m\u001b[0mintp\u001b[0m\u001b[1;33m)\u001b[0m\u001b[1;33m)\u001b[0m\u001b[1;33m\u001b[0m\u001b[1;33m\u001b[0m\u001b[0m\n\u001b[0;32m    626\u001b[0m \u001b[1;33m\u001b[0m\u001b[0m\n",
      "\u001b[1;32mD:\\Software\\Anaconda3\\envs\\torch\\lib\\site-packages\\sklearn\\svm\\_base.py\u001b[0m in \u001b[0;36mpredict\u001b[1;34m(self, X)\u001b[0m\n\u001b[0;32m    342\u001b[0m         \u001b[0mX\u001b[0m \u001b[1;33m=\u001b[0m \u001b[0mself\u001b[0m\u001b[1;33m.\u001b[0m\u001b[0m_validate_for_predict\u001b[0m\u001b[1;33m(\u001b[0m\u001b[0mX\u001b[0m\u001b[1;33m)\u001b[0m\u001b[1;33m\u001b[0m\u001b[1;33m\u001b[0m\u001b[0m\n\u001b[0;32m    343\u001b[0m         \u001b[0mpredict\u001b[0m \u001b[1;33m=\u001b[0m \u001b[0mself\u001b[0m\u001b[1;33m.\u001b[0m\u001b[0m_sparse_predict\u001b[0m \u001b[1;32mif\u001b[0m \u001b[0mself\u001b[0m\u001b[1;33m.\u001b[0m\u001b[0m_sparse\u001b[0m \u001b[1;32melse\u001b[0m \u001b[0mself\u001b[0m\u001b[1;33m.\u001b[0m\u001b[0m_dense_predict\u001b[0m\u001b[1;33m\u001b[0m\u001b[1;33m\u001b[0m\u001b[0m\n\u001b[1;32m--> 344\u001b[1;33m         \u001b[1;32mreturn\u001b[0m \u001b[0mpredict\u001b[0m\u001b[1;33m(\u001b[0m\u001b[0mX\u001b[0m\u001b[1;33m)\u001b[0m\u001b[1;33m\u001b[0m\u001b[1;33m\u001b[0m\u001b[0m\n\u001b[0m\u001b[0;32m    345\u001b[0m \u001b[1;33m\u001b[0m\u001b[0m\n\u001b[0;32m    346\u001b[0m     \u001b[1;32mdef\u001b[0m \u001b[0m_dense_predict\u001b[0m\u001b[1;33m(\u001b[0m\u001b[0mself\u001b[0m\u001b[1;33m,\u001b[0m \u001b[0mX\u001b[0m\u001b[1;33m)\u001b[0m\u001b[1;33m:\u001b[0m\u001b[1;33m\u001b[0m\u001b[1;33m\u001b[0m\u001b[0m\n",
      "\u001b[1;32mD:\\Software\\Anaconda3\\envs\\torch\\lib\\site-packages\\sklearn\\svm\\_base.py\u001b[0m in \u001b[0;36m_dense_predict\u001b[1;34m(self, X)\u001b[0m\n\u001b[0;32m    364\u001b[0m             \u001b[0mself\u001b[0m\u001b[1;33m.\u001b[0m\u001b[0m_probA\u001b[0m\u001b[1;33m,\u001b[0m \u001b[0mself\u001b[0m\u001b[1;33m.\u001b[0m\u001b[0m_probB\u001b[0m\u001b[1;33m,\u001b[0m \u001b[0msvm_type\u001b[0m\u001b[1;33m=\u001b[0m\u001b[0msvm_type\u001b[0m\u001b[1;33m,\u001b[0m \u001b[0mkernel\u001b[0m\u001b[1;33m=\u001b[0m\u001b[0mkernel\u001b[0m\u001b[1;33m,\u001b[0m\u001b[1;33m\u001b[0m\u001b[1;33m\u001b[0m\u001b[0m\n\u001b[0;32m    365\u001b[0m             \u001b[0mdegree\u001b[0m\u001b[1;33m=\u001b[0m\u001b[0mself\u001b[0m\u001b[1;33m.\u001b[0m\u001b[0mdegree\u001b[0m\u001b[1;33m,\u001b[0m \u001b[0mcoef0\u001b[0m\u001b[1;33m=\u001b[0m\u001b[0mself\u001b[0m\u001b[1;33m.\u001b[0m\u001b[0mcoef0\u001b[0m\u001b[1;33m,\u001b[0m \u001b[0mgamma\u001b[0m\u001b[1;33m=\u001b[0m\u001b[0mself\u001b[0m\u001b[1;33m.\u001b[0m\u001b[0m_gamma\u001b[0m\u001b[1;33m,\u001b[0m\u001b[1;33m\u001b[0m\u001b[1;33m\u001b[0m\u001b[0m\n\u001b[1;32m--> 366\u001b[1;33m             cache_size=self.cache_size)\n\u001b[0m\u001b[0;32m    367\u001b[0m \u001b[1;33m\u001b[0m\u001b[0m\n\u001b[0;32m    368\u001b[0m     \u001b[1;32mdef\u001b[0m \u001b[0m_sparse_predict\u001b[0m\u001b[1;33m(\u001b[0m\u001b[0mself\u001b[0m\u001b[1;33m,\u001b[0m \u001b[0mX\u001b[0m\u001b[1;33m)\u001b[0m\u001b[1;33m:\u001b[0m\u001b[1;33m\u001b[0m\u001b[1;33m\u001b[0m\u001b[0m\n",
      "\u001b[1;31mKeyboardInterrupt\u001b[0m: "
     ]
    }
   ],
   "source": [
    "n_epochs = 100\r\n",
    "n_ants = 10\r\n",
    "n_dims = train_data.shape[1]\r\n",
    "print(\"the Num of the total features:\", n_dims)\r\n",
    "\r\n",
    "alpha = 1\r\n",
    "beta = 0.2\r\n",
    "omega = 0.7\r\n",
    "rho = 0.3\r\n",
    "mu = 0.7\r\n",
    "gamma = 0.7\r\n",
    "\r\n",
    "tau = np.ones([n_dims, n_dims]) # tau 即信息素矩阵\r\n",
    "# eta = np.ones([n_dims, n_dims]) # eta 即启发式信息\r\n",
    "feat_list = list(range(n_dims)) # feature 总list\r\n",
    "best_score = 0.0\r\n",
    "score_list = []\r\n",
    "acc_list = []\r\n",
    "\r\n",
    "for epoch in range(n_epochs):\r\n",
    "\r\n",
    "    # ============ apply once fs ============\r\n",
    "    ant_path = np.zeros([n_ants, n_dims])           # 初始化每只蚂蚁在当前迭代中的路径, 88 means NULL\r\n",
    "    ant_acc = np.zeros(n_ants)\r\n",
    "    ant_score = np.zeros(n_ants)\r\n",
    "    n_feats = np.random.randint(1, n_dims, size=n_ants) # 初始化每只蚂蚁需要选择的特征数\r\n",
    "\r\n",
    "    for i in tqdm(range(n_ants), ncols=100, desc=\"Epoch %d\" % (epoch + 1), total=n_ants):\r\n",
    "\r\n",
    "        ant_path[i, 0] = np.random.randint(n_dims)  # 为每只蚂蚁选择起始节点（特征）\r\n",
    "        visited = []                                # 已选择的 feature list\r\n",
    "        \r\n",
    "        for d in range(n_feats[i]-1):               # 共选择 n_feats-1 次特征\r\n",
    "            visited.append(ant_path[i, d])          # 更新 selected 表\r\n",
    "            eta = update_eta(train_data, train_label, test_data, test_label, visited)\r\n",
    "                                                    # 更新启发式信息, eta = TPR / d, array(n_dims,)\r\n",
    "            p = (tau[int(visited[-1])] ** alpha) * (eta ** beta)\r\n",
    "            prob = p / sum(p)                       # 计算路径转移矩阵\r\n",
    "            route = select_route(prob)              # 寻找下一个特征\r\n",
    "            ant_path[i, d+1] = route\r\n",
    "\r\n",
    "    # ==== evaluate each selected subset ====\r\n",
    "    for j in range(n_ants):\r\n",
    "        selected = list(ant_path[j, :n_feats[j]])\r\n",
    "        f, acc = fitness_func(train_data, train_label, test_data, test_label, selected, omega)\r\n",
    "                                                    # 计算适应度函数\r\n",
    "        ant_score[j] = f\r\n",
    "        ant_acc[j] = acc\r\n",
    "        if f > best_score:                          # 保存为全局的最优解\r\n",
    "            best_path = ant_path[j]\r\n",
    "            best_score = f\r\n",
    "            best_path_acc = acc\r\n",
    "    \r\n",
    "    best_ant = np.argmax(ant_score)                 # 最优蚂蚁\r\n",
    "    near_ant = np.argmax(np.concatenate([ant_score[:best_ant], [0], ant_score[best_ant+1:]]))\r\n",
    "                                                    # 第二优蚂蚁\r\n",
    "    print(\"Best Score: {}, the Accuracy: {}, Num of Features: {}\".format(\\\r\n",
    "        ant_score[best_ant], ant_acc[best_ant], n_feats[best_ant]))\r\n",
    "    \r\n",
    "    score_list.append(ant_score[best_ant])\r\n",
    "    acc_list.append(ant_acc[best_ant])\r\n",
    "\r\n",
    "    # ======== update the eta matrix ========\r\n",
    "    \r\n",
    "    # stage 1 updating\r\n",
    "    deta_tau_k = np.zeros([n_ants, n_dims, n_dims])\r\n",
    "    for k in range(n_ants):\r\n",
    "        value = mu * ant_acc[k] + (1-mu) / n_feats[k] # 更新值\r\n",
    "        for m in range(n_feats[k]-1):\r\n",
    "            a, b = int(ant_path[k, m]), int(ant_path[k, m+1])\r\n",
    "            deta_tau_k[int(k), a, b] = value\r\n",
    "\r\n",
    "    deta_tau_1 = np.sum(deta_tau_k, 0)\r\n",
    "\r\n",
    "    # stage 2 updating\r\n",
    "    deta_tau_2 = np.zeros([n_dims, n_dims])\r\n",
    "    for p in range(n_feats[best_ant]-1):\r\n",
    "        a, b = int(ant_path[best_ant, p]), int(ant_path[best_ant, k+1])\r\n",
    "        deta_tau_2[a, b] = gamma * deta_tau_1[a, b]\r\n",
    "        \r\n",
    "    for p in range(n_feats[near_ant]-1):\r\n",
    "        a, b = int(ant_path[near_ant, p]), int(ant_path[near_ant, k+1])\r\n",
    "        deta_tau_2[a, b] += (1-gamma) * deta_tau_1[a, b]\r\n",
    "    \r\n",
    "    # update\r\n",
    "    tau = (1-rho) * tau + rho * deta_tau_1 + deta_tau_2\r\n",
    "\r\n"
   ]
  },
  {
   "cell_type": "code",
   "execution_count": 67,
   "metadata": {},
   "outputs": [
    {
     "name": "stdout",
     "output_type": "stream",
     "text": [
      "[ 0.  3.  1.  5.  7. 12. 13.  6.  2.  9.  0.  0.  0.  0.]\n",
      "0.38928571428571435\n"
     ]
    }
   ],
   "source": [
    "print(best_path)\r\n",
    "print(best_score)"
   ]
  },
  {
   "cell_type": "code",
   "execution_count": 16,
   "metadata": {},
   "outputs": [
    {
     "data": {
      "text/plain": "array([[12.,  1.,  1.,  1.,  0.,  0.,  0.,  0.,  0.,  0.,  0.,  0.,  0.,\n         0.],\n       [12.,  1.,  1.,  1.,  0.,  0.,  0.,  0.,  0.,  0.,  0.,  0.,  0.,\n         0.],\n       [12.,  1.,  1.,  0.,  0.,  0.,  0.,  0.,  0.,  0.,  0.,  0.,  0.,\n         0.],\n       [12.,  1.,  0.,  0.,  0.,  0.,  0.,  0.,  0.,  0.,  0.,  0.,  0.,\n         0.],\n       [12.,  1.,  1.,  1.,  1.,  1.,  0.,  0.,  0.,  0.,  0.,  0.,  0.,\n         0.],\n       [12.,  1.,  1.,  1.,  1.,  1.,  1.,  0.,  0.,  0.,  0.,  0.,  0.,\n         0.],\n       [12.,  1.,  1.,  1.,  1.,  1.,  1.,  1.,  1.,  1.,  1.,  1.,  0.,\n         0.],\n       [12.,  0.,  0.,  0.,  0.,  0.,  0.,  0.,  0.,  0.,  0.,  0.,  0.,\n         0.],\n       [12.,  1.,  1.,  1.,  1.,  1.,  1.,  1.,  1.,  1.,  0.,  0.,  0.,\n         0.],\n       [12.,  1.,  1.,  1.,  1.,  1.,  1.,  1.,  1.,  0.,  0.,  0.,  0.,\n         0.]])"
     },
     "execution_count": 16,
     "metadata": {},
     "output_type": "execute_result"
    }
   ],
   "source": [
    "ant_path"
   ]
  },
  {
   "cell_type": "code",
   "execution_count": 89,
   "metadata": {},
   "outputs": [
    {
     "data": {
      "text/plain": "array([0.        , 0.        , 0.3       , 0.3       , 0.3       ,\n       0.3       , 0.3       , 0.3       , 0.3       , 0.33333333,\n       0.3       , 0.23333333, 0.3       , 0.3       ])"
     },
     "execution_count": 89,
     "metadata": {},
     "output_type": "execute_result"
    }
   ],
   "source": [
    "update_eta(train_data, train_label, test_data, test_label, [0, 1])"
   ]
  },
  {
   "cell_type": "code",
   "execution_count": 122,
   "metadata": {},
   "outputs": [
    {
     "data": {
      "text/plain": "2"
     },
     "execution_count": 122,
     "metadata": {},
     "output_type": "execute_result"
    }
   ],
   "source": [
    "select_route([0, 0, 0.1, 0.3, 0, 0.6])"
   ]
  },
  {
   "cell_type": "code",
   "execution_count": null,
   "metadata": {},
   "outputs": [],
   "source": []
  },
  {
   "cell_type": "code",
   "execution_count": null,
   "metadata": {},
   "outputs": [],
   "source": []
  }
 ],
 "metadata": {
  "kernelspec": {
   "display_name": "Python 3.6.12 64-bit ('torch': conda)",
   "name": "python3612jvsc74a57bd0fa1753e247323262133cf77db1467c5bc86a9e2562626304a5b3b9a217888aef"
  },
  "language_info": {
   "codemirror_mode": {
    "name": "ipython",
    "version": 3
   },
   "file_extension": ".py",
   "mimetype": "text/x-python",
   "name": "python",
   "nbconvert_exporter": "python",
   "pygments_lexer": "ipython3",
   "version": "3.6.12"
  },
  "orig_nbformat": 2
 },
 "nbformat": 4,
 "nbformat_minor": 2
}