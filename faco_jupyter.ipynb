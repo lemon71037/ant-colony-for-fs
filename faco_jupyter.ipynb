{
 "cells": [
  {
   "cell_type": "code",
   "execution_count": 1,
   "metadata": {},
   "outputs": [],
   "source": [
    "import pandas as pd\r\n",
    "from sklearn.model_selection import train_test_split\r\n",
    "import random\r\n",
    "import numpy as np\r\n",
    "from collections import Counter\r\n",
    "from tqdm import tqdm\r\n",
    "from sklearn import svm\r\n",
    "from numba import njit"
   ]
  },
  {
   "cell_type": "code",
   "execution_count": 153,
   "metadata": {},
   "outputs": [],
   "source": [
    "csv_path = 'E:/dataset/mdp_classify-master/MDP/MW1.csv'\r\n",
    "csv_data = pd.read_csv(csv_path)\r\n",
    "total_data, total_label = csv_data.iloc[:, :-1], csv_data.iloc[:, -1]\r\n",
    "total_label = [{'N':0, 'Y':1}[i] for i in total_label]\r\n",
    "train_data, test_data, train_label, test_label = train_test_split(total_data, total_label, test_size=0.2)"
   ]
  },
  {
   "cell_type": "code",
   "execution_count": 154,
   "metadata": {},
   "outputs": [
    {
     "data": {
      "text/plain": "0.9135802469135802"
     },
     "execution_count": 154,
     "metadata": {},
     "output_type": "execute_result"
    }
   ],
   "source": [
    "clf = svm.SVC(C=2, kernel='rbf', gamma=5, decision_function_shape='ovr')\r\n",
    "clf.fit(train_data, train_label)\r\n",
    "clf.score(test_data, test_label)"
   ]
  },
  {
   "cell_type": "code",
   "execution_count": 148,
   "metadata": {},
   "outputs": [],
   "source": [
    "from sklearn.metrics import confusion_matrix, accuracy_score\r\n",
    "def update_eta(train_data, train_label, test_data, test_label, tabu):\r\n",
    "    \"\"\"更新启发式信息, eta = TPR / d\r\n",
    "    Returns:\r\n",
    "        eta: 从tabu最后一个节点出发到其余节点的启发式信息\r\n",
    "    \"\"\"\r\n",
    "    n_dims = train_data.shape[1]\r\n",
    "    eta = np.zeros(n_dims)\r\n",
    "    flist = list(set(range(n_dims)) - set(tabu)) \r\n",
    "\r\n",
    "    for i in flist:\r\n",
    "        clf = svm.SVC(C=2, kernel='rbf', gamma=5, decision_function_shape='ovr')\r\n",
    "        clf.fit(train_data.iloc[:, tabu+[i]], train_label)\r\n",
    "        pred = clf.predict(test_data.iloc[:, tabu+[i]])\r\n",
    "        cf_matrix = confusion_matrix(test_label, pred)\r\n",
    "        FN, TP = cf_matrix[1][0], cf_matrix[1][1]\r\n",
    "        eta[i] = TP / (TP + FN) / (len(tabu)+1)\r\n",
    "\r\n",
    "    return eta\r\n"
   ]
  },
  {
   "cell_type": "code",
   "execution_count": 6,
   "metadata": {},
   "outputs": [],
   "source": [
    "def select_route(prob):\r\n",
    "    \"\"\"按路径转移概率选择下一个特征\r\n",
    "    \"\"\"\r\n",
    "    cs = np.cumsum(prob)\r\n",
    "    p = np.random.rand()\r\n",
    "    for i in range(len(cs)):\r\n",
    "        if cs[i] > p:\r\n",
    "            break\r\n",
    "    \r\n",
    "    return i\r\n"
   ]
  },
  {
   "cell_type": "code",
   "execution_count": 7,
   "metadata": {},
   "outputs": [],
   "source": [
    "def fitness_func(train_data, train_label, test_data, test_label, selected, omega=0.7):\r\n",
    "    \"\"\"适应度函数，评估特征子集好坏\r\n",
    "    Returns:\r\n",
    "        result: 适应度\r\n",
    "    \"\"\"\r\n",
    "    clf = svm.SVC(C=2, kernel='rbf', gamma=5, decision_function_shape='ovr')\r\n",
    "    clf.fit(train_data.iloc[:, selected], train_label)\r\n",
    "    pred = clf.predict(test_data.iloc[:, selected])\r\n",
    "\r\n",
    "    cf_matrix = confusion_matrix(test_label, pred)\r\n",
    "    TN, FP = cf_matrix[0][0], cf_matrix[0][1]\r\n",
    "    FPR = FP / (TN + FP)\r\n",
    "    f_result = omega*FPR + (1-omega)*(len(selected)/train_data.shape[1])\r\n",
    "    acc = accuracy_score(test_label, pred)\r\n",
    "    return f_result, acc\r\n"
   ]
  },
  {
   "cell_type": "code",
   "execution_count": 8,
   "metadata": {},
   "outputs": [],
   "source": [
    "def fitness_func(train_data, train_label, test_data, test_label, selected, omega=0.8):\r\n",
    "    \"\"\"适应度函数，评估特征子集好坏\r\n",
    "    Returns:\r\n",
    "        result: 适应度\r\n",
    "    \"\"\"\r\n",
    "    clf = svm.SVC(C=2, kernel='rbf', gamma=5, decision_function_shape='ovr')\r\n",
    "    clf.fit(train_data.iloc[:, selected], train_label)\r\n",
    "    pred = clf.predict(test_data.iloc[:, selected])\r\n",
    "\r\n",
    "    cf_matrix = confusion_matrix(test_label, pred)\r\n",
    "    TN, FP = cf_matrix[0][0], cf_matrix[0][1]\r\n",
    "    FPR = FP / (TN + FP)\r\n",
    "\r\n",
    "    acc = accuracy_score(test_label, pred)\r\n",
    "    f_result = omega*(1-acc) + (1-omega)*np.exp(len(selected)/train_data.shape[1]-2)\r\n",
    "    # print(FPR, (1-omega)*np.exp(len(selected)/train_data.shape[1]-10), f_result)\r\n",
    "    return f_result, acc"
   ]
  },
  {
   "cell_type": "code",
   "execution_count": 9,
   "metadata": {},
   "outputs": [],
   "source": [
    "def init_eta(train_data, train_label, test_data, test_label):\r\n",
    "    n_dims = train_data.shape[1]\r\n",
    "    eta = np.zeros([n_dims, n_dims])\r\n",
    "    for i in tqdm(range(n_dims)):\r\n",
    "        for j in range(n_dims):\r\n",
    "            clf = svm.SVC(C=2, kernel='rbf', gamma=5, decision_function_shape='ovr')\r\n",
    "            clf.fit(train_data.iloc[:, [i,j]], train_label)\r\n",
    "            pred = clf.predict(test_data.iloc[:, [i,j]])\r\n",
    "            cf_matrix = confusion_matrix(test_label, pred)\r\n",
    "            FN, TP = cf_matrix[1][0], cf_matrix[1][1]\r\n",
    "            eta[i][j] = TP / (TP + FN) / 2\r\n",
    "    \r\n",
    "    return eta"
   ]
  },
  {
   "cell_type": "code",
   "execution_count": 238,
   "metadata": {},
   "outputs": [
    {
     "name": "stderr",
     "output_type": "stream",
     "text": [
      "  3%|▎         | 1/37 [00:00<00:05,  6.02it/s]"
     ]
    },
    {
     "name": "stdout",
     "output_type": "stream",
     "text": [
      "the Num of the total features: 37\n"
     ]
    },
    {
     "name": "stderr",
     "output_type": "stream",
     "text": [
      "100%|██████████| 37/37 [00:07<00:00,  5.17it/s]\n",
      "D:\\Software\\Anaconda3\\envs\\torch\\lib\\site-packages\\ipykernel_launcher.py:48: RuntimeWarning: invalid value encountered in true_divide\n",
      "D:\\Software\\Anaconda3\\envs\\torch\\lib\\site-packages\\ipykernel_launcher.py:48: RuntimeWarning: invalid value encountered in true_divide\n",
      "D:\\Software\\Anaconda3\\envs\\torch\\lib\\site-packages\\ipykernel_launcher.py:48: RuntimeWarning: invalid value encountered in true_divide\n",
      "D:\\Software\\Anaconda3\\envs\\torch\\lib\\site-packages\\ipykernel_launcher.py:48: RuntimeWarning: invalid value encountered in true_divide\n",
      "D:\\Software\\Anaconda3\\envs\\torch\\lib\\site-packages\\ipykernel_launcher.py:48: RuntimeWarning: invalid value encountered in true_divide\n",
      "D:\\Software\\Anaconda3\\envs\\torch\\lib\\site-packages\\ipykernel_launcher.py:48: RuntimeWarning: invalid value encountered in true_divide\n"
     ]
    },
    {
     "name": "stdout",
     "output_type": "stream",
     "text": [
      "init finishing\n",
      "Epoch 0 Best Score: 0.11084617330486843, the Accuracy: 0.9135802469135802, Num of Features: 16\n",
      "Epoch 1 Best Score: 0.1126125982106765, the Accuracy: 0.9012345679012346, Num of Features: 8\n",
      "Epoch 2 Best Score: 0.11084617330486843, the Accuracy: 0.9135802469135802, Num of Features: 16\n",
      "Epoch 3 Best Score: 0.11103729377298271, the Accuracy: 0.9259259259259259, Num of Features: 24\n",
      "Epoch 4 Best Score: 0.08861236762861623, the Accuracy: 0.9259259259259259, Num of Features: 3\n",
      "Epoch 5 Best Score: 0.08782966508068978, the Accuracy: 0.9259259259259259, Num of Features: 2\n",
      "Epoch 6 Best Score: 0.07953996954897877, the Accuracy: 0.9382716049382716, Num of Features: 4\n",
      "Epoch 7 Best Score: 0.09877486772656227, the Accuracy: 0.9259259259259259, Num of Features: 14\n",
      "Epoch 8 Best Score: 0.06966342633910219, the Accuracy: 0.9506172839506173, Num of Features: 4\n",
      "Epoch 9 Best Score: 0.08208701565720053, the Accuracy: 0.9382716049382716, Num of Features: 7\n",
      "Epoch 10 Best Score: 0.09985742033794388, the Accuracy: 0.9259259259259259, Num of Features: 15\n"
     ]
    },
    {
     "name": "stderr",
     "output_type": "stream",
     "text": [
      "D:\\Software\\Anaconda3\\envs\\torch\\lib\\site-packages\\ipykernel_launcher.py:48: RuntimeWarning: invalid value encountered in true_divide\n",
      "D:\\Software\\Anaconda3\\envs\\torch\\lib\\site-packages\\ipykernel_launcher.py:48: RuntimeWarning: invalid value encountered in true_divide\n",
      "D:\\Software\\Anaconda3\\envs\\torch\\lib\\site-packages\\ipykernel_launcher.py:48: RuntimeWarning: invalid value encountered in true_divide\n",
      "D:\\Software\\Anaconda3\\envs\\torch\\lib\\site-packages\\ipykernel_launcher.py:48: RuntimeWarning: invalid value encountered in true_divide\n",
      "D:\\Software\\Anaconda3\\envs\\torch\\lib\\site-packages\\ipykernel_launcher.py:48: RuntimeWarning: invalid value encountered in true_divide\n",
      "D:\\Software\\Anaconda3\\envs\\torch\\lib\\site-packages\\ipykernel_launcher.py:48: RuntimeWarning: invalid value encountered in true_divide\n",
      "D:\\Software\\Anaconda3\\envs\\torch\\lib\\site-packages\\ipykernel_launcher.py:48: RuntimeWarning: invalid value encountered in true_divide\n",
      "D:\\Software\\Anaconda3\\envs\\torch\\lib\\site-packages\\ipykernel_launcher.py:48: RuntimeWarning: invalid value encountered in true_divide\n",
      "D:\\Software\\Anaconda3\\envs\\torch\\lib\\site-packages\\ipykernel_launcher.py:48: RuntimeWarning: invalid value encountered in true_divide\n",
      "D:\\Software\\Anaconda3\\envs\\torch\\lib\\site-packages\\ipykernel_launcher.py:48: RuntimeWarning: invalid value encountered in true_divide\n",
      "D:\\Software\\Anaconda3\\envs\\torch\\lib\\site-packages\\ipykernel_launcher.py:48: RuntimeWarning: invalid value encountered in true_divide\n"
     ]
    },
    {
     "name": "stdout",
     "output_type": "stream",
     "text": [
      "Epoch 11 Best Score: 0.1027360550008, the Accuracy: 0.9135802469135802, Num of Features: 8\n",
      "Epoch 12 Best Score: 0.09848891083849282, the Accuracy: 0.9135802469135802, Num of Features: 3\n",
      "Epoch 13 Best Score: 0.08941651275885527, the Accuracy: 0.9259259259259259, Num of Features: 4\n",
      "Epoch 14 Best Score: 0.10865141093643887, the Accuracy: 0.9135802469135802, Num of Features: 14\n",
      "Epoch 15 Best Score: 0.09772118145112474, the Accuracy: 0.9259259259259259, Num of Features: 13\n",
      "Epoch 16 Best Score: 0.059786883129225685, the Accuracy: 0.9629629629629629, Num of Features: 4\n",
      "Epoch 17 Best Score: 0.10836545404836931, the Accuracy: 0.9012345679012346, Num of Features: 3"
     ]
    },
    {
     "name": "stderr",
     "output_type": "stream",
     "text": [
      "D:\\Software\\Anaconda3\\envs\\torch\\lib\\site-packages\\ipykernel_launcher.py:48: RuntimeWarning: invalid value encountered in true_divide\n",
      "D:\\Software\\Anaconda3\\envs\\torch\\lib\\site-packages\\ipykernel_launcher.py:48: RuntimeWarning: invalid value encountered in true_divide\n",
      "D:\\Software\\Anaconda3\\envs\\torch\\lib\\site-packages\\ipykernel_launcher.py:48: RuntimeWarning: invalid value encountered in true_divide\n",
      "D:\\Software\\Anaconda3\\envs\\torch\\lib\\site-packages\\ipykernel_launcher.py:48: RuntimeWarning: invalid value encountered in true_divide\n",
      "D:\\Software\\Anaconda3\\envs\\torch\\lib\\site-packages\\ipykernel_launcher.py:48: RuntimeWarning: invalid value encountered in true_divide\n",
      "D:\\Software\\Anaconda3\\envs\\torch\\lib\\site-packages\\ipykernel_launcher.py:48: RuntimeWarning: invalid value encountered in true_divide\n",
      "D:\\Software\\Anaconda3\\envs\\torch\\lib\\site-packages\\ipykernel_launcher.py:48: RuntimeWarning: invalid value encountered in true_divide\n"
     ]
    },
    {
     "name": "stdout",
     "output_type": "stream",
     "text": [
      "\n",
      "Epoch 18 Best Score: 0.08706783334722093, the Accuracy: 0.9259259259259259, Num of Features: 1\n",
      "Epoch 19 Best Score: 0.08706783334722093, the Accuracy: 0.9259259259259259, Num of Features: 1\n",
      "Epoch 20 Best Score: 0.10365655306554147, the Accuracy: 0.9135802469135802, Num of Features: 9\n",
      "Epoch 21 Best Score: 0.0937800098556649, the Accuracy: 0.9259259259259259, Num of Features: 9\n",
      "Epoch 22 Best Score: 0.09285951179092342, the Accuracy: 0.9259259259259259, Num of Features: 8\n",
      "Epoch 23 Best Score: 0.10973396354782047, the Accuracy: 0.9135802469135802, Num of Features: 15\n"
     ]
    },
    {
     "name": "stderr",
     "output_type": "stream",
     "text": [
      "D:\\Software\\Anaconda3\\envs\\torch\\lib\\site-packages\\ipykernel_launcher.py:48: RuntimeWarning: invalid value encountered in true_divide\n",
      "D:\\Software\\Anaconda3\\envs\\torch\\lib\\site-packages\\ipykernel_launcher.py:48: RuntimeWarning: invalid value encountered in true_divide\n",
      "D:\\Software\\Anaconda3\\envs\\torch\\lib\\site-packages\\ipykernel_launcher.py:48: RuntimeWarning: invalid value encountered in true_divide\n",
      "D:\\Software\\Anaconda3\\envs\\torch\\lib\\site-packages\\ipykernel_launcher.py:48: RuntimeWarning: invalid value encountered in true_divide\n",
      "D:\\Software\\Anaconda3\\envs\\torch\\lib\\site-packages\\ipykernel_launcher.py:48: RuntimeWarning: invalid value encountered in true_divide\n",
      "D:\\Software\\Anaconda3\\envs\\torch\\lib\\site-packages\\ipykernel_launcher.py:48: RuntimeWarning: invalid value encountered in true_divide\n"
     ]
    },
    {
     "name": "stdout",
     "output_type": "stream",
     "text": [
      "Epoch 24 Best Score: 0.1027360550008, the Accuracy: 0.9135802469135802, Num of Features: 8\n",
      "Epoch 25 Best Score: 0.08706783334722093, the Accuracy: 0.9259259259259259, Num of Features: 1\n",
      "Epoch 26 Best Score: 0.07873582441873973, the Accuracy: 0.9382716049382716, Num of Features: 3\n",
      "Epoch 27 Best Score: 0.08861236762861623, the Accuracy: 0.9259259259259259, Num of Features: 3\n",
      "Epoch 28 Best Score: 0.10211230947211136, the Accuracy: 0.9259259259259259, Num of Features: 17\n",
      "Epoch 29 Best Score: 0.09877486772656227, the Accuracy: 0.9259259259259259, Num of Features: 14\n"
     ]
    },
    {
     "name": "stderr",
     "output_type": "stream",
     "text": [
      "D:\\Software\\Anaconda3\\envs\\torch\\lib\\site-packages\\ipykernel_launcher.py:48: RuntimeWarning: invalid value encountered in true_divide\n",
      "D:\\Software\\Anaconda3\\envs\\torch\\lib\\site-packages\\ipykernel_launcher.py:48: RuntimeWarning: invalid value encountered in true_divide\n",
      "D:\\Software\\Anaconda3\\envs\\torch\\lib\\site-packages\\ipykernel_launcher.py:48: RuntimeWarning: invalid value encountered in true_divide\n",
      "D:\\Software\\Anaconda3\\envs\\torch\\lib\\site-packages\\ipykernel_launcher.py:48: RuntimeWarning: invalid value encountered in true_divide\n",
      "D:\\Software\\Anaconda3\\envs\\torch\\lib\\site-packages\\ipykernel_launcher.py:48: RuntimeWarning: invalid value encountered in true_divide\n",
      "D:\\Software\\Anaconda3\\envs\\torch\\lib\\site-packages\\ipykernel_launcher.py:48: RuntimeWarning: invalid value encountered in true_divide\n"
     ]
    },
    {
     "name": "stdout",
     "output_type": "stream",
     "text": [
      "Epoch 30 Best Score: 0.10460226869929956, the Accuracy: 0.9135802469135802, Num of Features: 10\n",
      "Epoch 31 Best Score: 0.11198885268198797, the Accuracy: 0.9135802469135802, Num of Features: 17\n",
      "Epoch 32 Best Score: 0.09196355886707702, the Accuracy: 0.9259259259259259, Num of Features: 7\n",
      "Epoch 33 Best Score: 0.07795312187081328, the Accuracy: 0.9382716049382716, Num of Features: 2\n",
      "Epoch 34 Best Score: 0.11353309627541797, the Accuracy: 0.9012345679012346, Num of Features: 9\n",
      "Epoch 35 Best Score: 0.09929305596873186, the Accuracy: 0.9135802469135802, Num of Features: 4\n"
     ]
    },
    {
     "name": "stderr",
     "output_type": "stream",
     "text": [
      "D:\\Software\\Anaconda3\\envs\\torch\\lib\\site-packages\\ipykernel_launcher.py:48: RuntimeWarning: invalid value encountered in true_divide\n",
      "D:\\Software\\Anaconda3\\envs\\torch\\lib\\site-packages\\ipykernel_launcher.py:48: RuntimeWarning: invalid value encountered in true_divide\n",
      "D:\\Software\\Anaconda3\\envs\\torch\\lib\\site-packages\\ipykernel_launcher.py:48: RuntimeWarning: invalid value encountered in true_divide\n",
      "D:\\Software\\Anaconda3\\envs\\torch\\lib\\site-packages\\ipykernel_launcher.py:48: RuntimeWarning: invalid value encountered in true_divide\n",
      "D:\\Software\\Anaconda3\\envs\\torch\\lib\\site-packages\\ipykernel_launcher.py:48: RuntimeWarning: invalid value encountered in true_divide\n"
     ]
    },
    {
     "name": "stdout",
     "output_type": "stream",
     "text": [
      "Epoch 36 Best Score: 0.1126125982106765, the Accuracy: 0.9012345679012346, Num of Features: 8\n",
      "Epoch 37 Best Score: 0.08706783334722093, the Accuracy: 0.9259259259259259, Num of Features: 1\n",
      "Epoch 38 Best Score: 0.10557389275174736, the Accuracy: 0.9135802469135802, Num of Features: 11\n",
      "Epoch 39 Best Score: 0.11953317231761987, the Accuracy: 0.9135802469135802, Num of Features: 23\n",
      "Epoch 40 Best Score: 0.11198885268198797, the Accuracy: 0.9135802469135802, Num of Features: 17\n",
      "Epoch 41 Best Score: 0.07795312187081328, the Accuracy: 0.9382716049382716, Num of Features: 2\n"
     ]
    },
    {
     "name": "stderr",
     "output_type": "stream",
     "text": [
      "D:\\Software\\Anaconda3\\envs\\torch\\lib\\site-packages\\ipykernel_launcher.py:48: RuntimeWarning: invalid value encountered in true_divide\n",
      "D:\\Software\\Anaconda3\\envs\\torch\\lib\\site-packages\\ipykernel_launcher.py:48: RuntimeWarning: invalid value encountered in true_divide\n",
      "D:\\Software\\Anaconda3\\envs\\torch\\lib\\site-packages\\ipykernel_launcher.py:48: RuntimeWarning: invalid value encountered in true_divide\n",
      "D:\\Software\\Anaconda3\\envs\\torch\\lib\\site-packages\\ipykernel_launcher.py:48: RuntimeWarning: invalid value encountered in true_divide\n",
      "D:\\Software\\Anaconda3\\envs\\torch\\lib\\site-packages\\ipykernel_launcher.py:48: RuntimeWarning: invalid value encountered in true_divide\n"
     ]
    },
    {
     "name": "stdout",
     "output_type": "stream",
     "text": [
      "Epoch 42 Best Score: 0.08706783334722093, the Accuracy: 0.9259259259259259, Num of Features: 1\n",
      "Epoch 43 Best Score: 0.10184010207695361, the Accuracy: 0.9135802469135802, Num of Features: 7\n",
      "Epoch 44 Best Score: 0.09024268790316814, the Accuracy: 0.9259259259259259, Num of Features: 5\n",
      "Epoch 45 Best Score: 0.0937800098556649, the Accuracy: 0.9259259259259259, Num of Features: 9\n",
      "Epoch 46 Best Score: 0.10460226869929956, the Accuracy: 0.9135802469135802, Num of Features: 10\n",
      "Epoch 47 Best Score: 0.10460226869929956, the Accuracy: 0.9135802469135802, Num of Features: 10\n"
     ]
    },
    {
     "name": "stderr",
     "output_type": "stream",
     "text": [
      "D:\\Software\\Anaconda3\\envs\\torch\\lib\\site-packages\\ipykernel_launcher.py:48: RuntimeWarning: invalid value encountered in true_divide\n",
      "D:\\Software\\Anaconda3\\envs\\torch\\lib\\site-packages\\ipykernel_launcher.py:48: RuntimeWarning: invalid value encountered in true_divide\n",
      "D:\\Software\\Anaconda3\\envs\\torch\\lib\\site-packages\\ipykernel_launcher.py:48: RuntimeWarning: invalid value encountered in true_divide\n",
      "D:\\Software\\Anaconda3\\envs\\torch\\lib\\site-packages\\ipykernel_launcher.py:48: RuntimeWarning: invalid value encountered in true_divide\n",
      "D:\\Software\\Anaconda3\\envs\\torch\\lib\\site-packages\\ipykernel_launcher.py:48: RuntimeWarning: invalid value encountered in true_divide\n",
      "D:\\Software\\Anaconda3\\envs\\torch\\lib\\site-packages\\ipykernel_launcher.py:48: RuntimeWarning: invalid value encountered in true_divide\n"
     ]
    },
    {
     "name": "stdout",
     "output_type": "stream",
     "text": [
      "Epoch 48 Best Score: 0.09770620829056637, the Accuracy: 0.9135802469135802, Num of Features: 2\n",
      "Epoch 49 Best Score: 0.07795312187081328, the Accuracy: 0.9382716049382716, Num of Features: 2\n",
      "Epoch 50 Best Score: 0.09877486772656227, the Accuracy: 0.9259259259259259, Num of Features: 14\n",
      "Epoch 51 Best Score: 0.10831277995579523, the Accuracy: 0.9259259259259259, Num of Features: 22\n",
      "Epoch 52 Best Score: 0.10211230947211136, the Accuracy: 0.9259259259259259, Num of Features: 17\n",
      "Epoch 53 Best Score: 0.08706783334722093, the Accuracy: 0.9259259259259259, Num of Features: 1\n"
     ]
    },
    {
     "name": "stderr",
     "output_type": "stream",
     "text": [
      "D:\\Software\\Anaconda3\\envs\\torch\\lib\\site-packages\\ipykernel_launcher.py:48: RuntimeWarning: invalid value encountered in true_divide\n",
      "D:\\Software\\Anaconda3\\envs\\torch\\lib\\site-packages\\ipykernel_launcher.py:48: RuntimeWarning: invalid value encountered in true_divide\n",
      "D:\\Software\\Anaconda3\\envs\\torch\\lib\\site-packages\\ipykernel_launcher.py:48: RuntimeWarning: invalid value encountered in true_divide\n",
      "D:\\Software\\Anaconda3\\envs\\torch\\lib\\site-packages\\ipykernel_launcher.py:48: RuntimeWarning: invalid value encountered in true_divide\n"
     ]
    },
    {
     "name": "stdout",
     "output_type": "stream",
     "text": [
      "Epoch 54 Best Score: 0.08121495337646736, the Accuracy: 0.9382716049382716, Num of Features: 6\n",
      "Epoch 55 Best Score: 0.10211230947211136, the Accuracy: 0.9259259259259259, Num of Features: 17\n",
      "Epoch 56 Best Score: 0.09109149658634387, the Accuracy: 0.9259259259259259, Num of Features: 6\n",
      "Epoch 57 Best Score: 0.10096803979622046, the Accuracy: 0.9135802469135802, Num of Features: 6\n",
      "Epoch 58 Best Score: 0.08941651275885527, the Accuracy: 0.9259259259259259, Num of Features: 4\n",
      "Epoch 59 Best Score: 0.09024268790316814, the Accuracy: 0.9259259259259259, Num of Features: 5\n"
     ]
    },
    {
     "name": "stderr",
     "output_type": "stream",
     "text": [
      "D:\\Software\\Anaconda3\\envs\\torch\\lib\\site-packages\\ipykernel_launcher.py:48: RuntimeWarning: invalid value encountered in true_divide\n",
      "D:\\Software\\Anaconda3\\envs\\torch\\lib\\site-packages\\ipykernel_launcher.py:48: RuntimeWarning: invalid value encountered in true_divide\n",
      "D:\\Software\\Anaconda3\\envs\\torch\\lib\\site-packages\\ipykernel_launcher.py:48: RuntimeWarning: invalid value encountered in true_divide\n",
      "D:\\Software\\Anaconda3\\envs\\torch\\lib\\site-packages\\ipykernel_launcher.py:48: RuntimeWarning: invalid value encountered in true_divide\n",
      "D:\\Software\\Anaconda3\\envs\\torch\\lib\\site-packages\\ipykernel_launcher.py:48: RuntimeWarning: invalid value encountered in true_divide\n",
      "D:\\Software\\Anaconda3\\envs\\torch\\lib\\site-packages\\ipykernel_launcher.py:48: RuntimeWarning: invalid value encountered in true_divide\n"
     ]
    },
    {
     "name": "stdout",
     "output_type": "stream",
     "text": [
      "Epoch 60 Best Score: 0.09196355886707702, the Accuracy: 0.9259259259259259, Num of Features: 7\n",
      "Epoch 61 Best Score: 0.08782966508068978, the Accuracy: 0.9259259259259259, Num of Features: 2\n",
      "Epoch 62 Best Score: 0.09669559178890183, the Accuracy: 0.9259259259259259, Num of Features: 12\n",
      "Epoch 63 Best Score: 0.07873582441873973, the Accuracy: 0.9382716049382716, Num of Features: 3\n",
      "Epoch 64 Best Score: 0.11447881190917605, the Accuracy: 0.9012345679012346, Num of Features: 10\n",
      "Epoch 65 Best Score: 0.08861236762861623, the Accuracy: 0.9259259259259259, Num of Features: 3\n"
     ]
    },
    {
     "name": "stderr",
     "output_type": "stream",
     "text": [
      "D:\\Software\\Anaconda3\\envs\\torch\\lib\\site-packages\\ipykernel_launcher.py:48: RuntimeWarning: invalid value encountered in true_divide\n",
      "D:\\Software\\Anaconda3\\envs\\torch\\lib\\site-packages\\ipykernel_launcher.py:48: RuntimeWarning: invalid value encountered in true_divide\n",
      "D:\\Software\\Anaconda3\\envs\\torch\\lib\\site-packages\\ipykernel_launcher.py:48: RuntimeWarning: invalid value encountered in true_divide\n",
      "D:\\Software\\Anaconda3\\envs\\torch\\lib\\site-packages\\ipykernel_launcher.py:48: RuntimeWarning: invalid value encountered in true_divide\n",
      "D:\\Software\\Anaconda3\\envs\\torch\\lib\\site-packages\\ipykernel_launcher.py:48: RuntimeWarning: invalid value encountered in true_divide\n",
      "D:\\Software\\Anaconda3\\envs\\torch\\lib\\site-packages\\ipykernel_launcher.py:48: RuntimeWarning: invalid value encountered in true_divide\n"
     ]
    },
    {
     "name": "stdout",
     "output_type": "stream",
     "text": [
      "Epoch 66 Best Score: 0.08706783334722093, the Accuracy: 0.9259259259259259, Num of Features: 1\n",
      "Epoch 67 Best Score: 0.11198885268198797, the Accuracy: 0.9135802469135802, Num of Features: 17\n",
      "Epoch 68 Best Score: 0.0937800098556649, the Accuracy: 0.9259259259259259, Num of Features: 9\n",
      "Epoch 69 Best Score: 0.11353309627541797, the Accuracy: 0.9012345679012346, Num of Features: 9\n",
      "Epoch 70 Best Score: 0.11688130783895355, the Accuracy: 0.9135802469135802, Num of Features: 21\n",
      "Epoch 71 Best Score: 0.10916959917860836, the Accuracy: 0.9012345679012346, Num of Features: 4\n"
     ]
    },
    {
     "name": "stderr",
     "output_type": "stream",
     "text": [
      "D:\\Software\\Anaconda3\\envs\\torch\\lib\\site-packages\\ipykernel_launcher.py:48: RuntimeWarning: invalid value encountered in true_divide\n",
      "D:\\Software\\Anaconda3\\envs\\torch\\lib\\site-packages\\ipykernel_launcher.py:48: RuntimeWarning: invalid value encountered in true_divide\n",
      "D:\\Software\\Anaconda3\\envs\\torch\\lib\\site-packages\\ipykernel_launcher.py:48: RuntimeWarning: invalid value encountered in true_divide\n",
      "D:\\Software\\Anaconda3\\envs\\torch\\lib\\site-packages\\ipykernel_launcher.py:48: RuntimeWarning: invalid value encountered in true_divide\n",
      "D:\\Software\\Anaconda3\\envs\\torch\\lib\\site-packages\\ipykernel_launcher.py:48: RuntimeWarning: invalid value encountered in true_divide\n"
     ]
    },
    {
     "name": "stdout",
     "output_type": "stream",
     "text": [
      "Epoch 72 Best Score: 0.08706783334722093, the Accuracy: 0.9259259259259259, Num of Features: 1\n",
      "Epoch 73 Best Score: 0.09472572548942298, the Accuracy: 0.9259259259259259, Num of Features: 10\n",
      "Epoch 74 Best Score: 0.11436898209483537, the Accuracy: 0.9135802469135802, Num of Features: 19\n",
      "Epoch 75 Best Score: 0.11316283641178362, the Accuracy: 0.9135802469135802, Num of Features: 18\n",
      "Epoch 76 Best Score: 0.08706783334722093, the Accuracy: 0.9259259259259259, Num of Features: 1\n",
      "Epoch 77 Best Score: 0.09772118145112474, the Accuracy: 0.9259259259259259, Num of Features: 13\n"
     ]
    },
    {
     "name": "stderr",
     "output_type": "stream",
     "text": [
      "D:\\Software\\Anaconda3\\envs\\torch\\lib\\site-packages\\ipykernel_launcher.py:48: RuntimeWarning: invalid value encountered in true_divide\n",
      "D:\\Software\\Anaconda3\\envs\\torch\\lib\\site-packages\\ipykernel_launcher.py:48: RuntimeWarning: invalid value encountered in true_divide\n",
      "D:\\Software\\Anaconda3\\envs\\torch\\lib\\site-packages\\ipykernel_launcher.py:48: RuntimeWarning: invalid value encountered in true_divide\n",
      "D:\\Software\\Anaconda3\\envs\\torch\\lib\\site-packages\\ipykernel_launcher.py:48: RuntimeWarning: invalid value encountered in true_divide\n",
      "D:\\Software\\Anaconda3\\envs\\torch\\lib\\site-packages\\ipykernel_launcher.py:48: RuntimeWarning: invalid value encountered in true_divide\n"
     ]
    },
    {
     "name": "stdout",
     "output_type": "stream",
     "text": [
      "Epoch 78 Best Score: 0.1117166452868301, the Accuracy: 0.9012345679012346, Num of Features: 7\n",
      "Epoch 79 Best Score: 0.09848891083849282, the Accuracy: 0.9135802469135802, Num of Features: 3\n",
      "Epoch 80 Best Score: 0.10211230947211136, the Accuracy: 0.9259259259259259, Num of Features: 17\n",
      "Epoch 81 Best Score: 0.10973396354782047, the Accuracy: 0.9135802469135802, Num of Features: 15\n",
      "Epoch 82 Best Score: 0.08706783334722093, the Accuracy: 0.9259259259259259, Num of Features: 1\n",
      "Epoch 83 Best Score: 0.08706783334722093, the Accuracy: 0.9259259259259259, Num of Features: 1"
     ]
    },
    {
     "name": "stderr",
     "output_type": "stream",
     "text": [
      "D:\\Software\\Anaconda3\\envs\\torch\\lib\\site-packages\\ipykernel_launcher.py:48: RuntimeWarning: invalid value encountered in true_divide\n",
      "D:\\Software\\Anaconda3\\envs\\torch\\lib\\site-packages\\ipykernel_launcher.py:48: RuntimeWarning: invalid value encountered in true_divide\n",
      "D:\\Software\\Anaconda3\\envs\\torch\\lib\\site-packages\\ipykernel_launcher.py:48: RuntimeWarning: invalid value encountered in true_divide\n",
      "D:\\Software\\Anaconda3\\envs\\torch\\lib\\site-packages\\ipykernel_launcher.py:48: RuntimeWarning: invalid value encountered in true_divide\n",
      "D:\\Software\\Anaconda3\\envs\\torch\\lib\\site-packages\\ipykernel_launcher.py:48: RuntimeWarning: invalid value encountered in true_divide\n",
      "D:\\Software\\Anaconda3\\envs\\torch\\lib\\site-packages\\ipykernel_launcher.py:48: RuntimeWarning: invalid value encountered in true_divide\n",
      "D:\\Software\\Anaconda3\\envs\\torch\\lib\\site-packages\\ipykernel_launcher.py:48: RuntimeWarning: invalid value encountered in true_divide\n",
      "D:\\Software\\Anaconda3\\envs\\torch\\lib\\site-packages\\ipykernel_launcher.py:48: RuntimeWarning: invalid value encountered in true_divide\n"
     ]
    },
    {
     "name": "stdout",
     "output_type": "stream",
     "text": [
      "\n",
      "Epoch 84 Best Score: 0.11953317231761987, the Accuracy: 0.9135802469135802, Num of Features: 23\n",
      "Epoch 85 Best Score: 0.08861236762861623, the Accuracy: 0.9259259259259259, Num of Features: 3\n",
      "Epoch 86 Best Score: 0.1117166452868301, the Accuracy: 0.9012345679012346, Num of Features: 7\n",
      "Epoch 87 Best Score: 0.10916959917860836, the Accuracy: 0.9012345679012346, Num of Features: 4\n",
      "Epoch 88 Best Score: 0.09285951179092342, the Accuracy: 0.9259259259259259, Num of Features: 8\n"
     ]
    },
    {
     "name": "stderr",
     "output_type": "stream",
     "text": [
      "D:\\Software\\Anaconda3\\envs\\torch\\lib\\site-packages\\ipykernel_launcher.py:48: RuntimeWarning: invalid value encountered in true_divide\n",
      "D:\\Software\\Anaconda3\\envs\\torch\\lib\\site-packages\\ipykernel_launcher.py:48: RuntimeWarning: invalid value encountered in true_divide\n",
      "D:\\Software\\Anaconda3\\envs\\torch\\lib\\site-packages\\ipykernel_launcher.py:48: RuntimeWarning: invalid value encountered in true_divide\n",
      "D:\\Software\\Anaconda3\\envs\\torch\\lib\\site-packages\\ipykernel_launcher.py:48: RuntimeWarning: invalid value encountered in true_divide\n"
     ]
    },
    {
     "name": "stdout",
     "output_type": "stream",
     "text": [
      "Epoch 89 Best Score: 0.10096803979622046, the Accuracy: 0.9135802469135802, Num of Features: 6\n",
      "Epoch 90 Best Score: 0.09985742033794388, the Accuracy: 0.9259259259259259, Num of Features: 15\n",
      "Epoch 91 Best Score: 0.09877486772656227, the Accuracy: 0.9259259259259259, Num of Features: 14\n",
      "Epoch 92 Best Score: 0.08889832451668578, the Accuracy: 0.9382716049382716, Num of Features: 14\n",
      "Epoch 93 Best Score: 0.11084458300609695, the Accuracy: 0.9012345679012346, Num of Features: 6\n"
     ]
    },
    {
     "name": "stderr",
     "output_type": "stream",
     "text": [
      "D:\\Software\\Anaconda3\\envs\\torch\\lib\\site-packages\\ipykernel_launcher.py:48: RuntimeWarning: invalid value encountered in true_divide\n",
      "D:\\Software\\Anaconda3\\envs\\torch\\lib\\site-packages\\ipykernel_launcher.py:48: RuntimeWarning: invalid value encountered in true_divide\n",
      "D:\\Software\\Anaconda3\\envs\\torch\\lib\\site-packages\\ipykernel_launcher.py:48: RuntimeWarning: invalid value encountered in true_divide\n",
      "D:\\Software\\Anaconda3\\envs\\torch\\lib\\site-packages\\ipykernel_launcher.py:48: RuntimeWarning: invalid value encountered in true_divide\n",
      "D:\\Software\\Anaconda3\\envs\\torch\\lib\\site-packages\\ipykernel_launcher.py:48: RuntimeWarning: invalid value encountered in true_divide\n"
     ]
    },
    {
     "name": "stdout",
     "output_type": "stream",
     "text": [
      "Epoch 94 Best Score: 0.09196355886707702, the Accuracy: 0.9259259259259259, Num of Features: 7\n",
      "Epoch 95 Best Score: 0.11852795414631537, the Accuracy: 0.9012345679012346, Num of Features: 14\n",
      "Epoch 96 Best Score: 0.10096963009499182, the Accuracy: 0.9259259259259259, Num of Features: 16\n",
      "Epoch 97 Best Score: 0.08782966508068978, the Accuracy: 0.9259259259259259, Num of Features: 2\n",
      "Epoch 98 Best Score: 0.11545043596162385, the Accuracy: 0.9012345679012346, Num of Features: 11\n"
     ]
    },
    {
     "name": "stderr",
     "output_type": "stream",
     "text": [
      "D:\\Software\\Anaconda3\\envs\\torch\\lib\\site-packages\\ipykernel_launcher.py:48: RuntimeWarning: invalid value encountered in true_divide\n",
      "D:\\Software\\Anaconda3\\envs\\torch\\lib\\site-packages\\ipykernel_launcher.py:48: RuntimeWarning: invalid value encountered in true_divide\n",
      "D:\\Software\\Anaconda3\\envs\\torch\\lib\\site-packages\\ipykernel_launcher.py:48: RuntimeWarning: invalid value encountered in true_divide\n",
      "D:\\Software\\Anaconda3\\envs\\torch\\lib\\site-packages\\ipykernel_launcher.py:48: RuntimeWarning: invalid value encountered in true_divide\n",
      "D:\\Software\\Anaconda3\\envs\\torch\\lib\\site-packages\\ipykernel_launcher.py:48: RuntimeWarning: invalid value encountered in true_divide\n"
     ]
    },
    {
     "name": "stdout",
     "output_type": "stream",
     "text": [
      "Epoch 99 Best Score: 0.11084458300609695, the Accuracy: 0.9012345679012346, Num of Features: 6\n",
      "The Best Ant Path:  [24.  2. 32.  4.  0.  0.  0.  0.  0.  0.  0.  0.  0.  0.  0.  0.  0.  0.\n",
      "  0.  0.  0.  0.  0.  0.  0.  0.  0.  0.  0.  0.  0.  0.  0.  0.  0.  0.\n",
      "  0.]\n",
      "The Best Score:  0.059786883129225685\n",
      "The Accuracy use Best Path:  0.9629629629629629\n"
     ]
    }
   ],
   "source": [
    "n_epochs = 100\r\n",
    "n_dims = train_data.shape[1]\r\n",
    "n_ants = 5\r\n",
    "print(\"the Num of the total features:\", n_dims)\r\n",
    "\r\n",
    "alpha = 1\r\n",
    "beta = 0.2\r\n",
    "omega = 0.8\r\n",
    "rho = 0.3\r\n",
    "mu = 0.7\r\n",
    "gamma = 0.7\r\n",
    "\r\n",
    "tau = np.ones([n_dims, n_dims]) # tau 即信息素矩阵\r\n",
    "eta = init_eta(train_data, train_label, test_data, test_label) # eta 即启发式信息\r\n",
    "print(\"init finishing\")\r\n",
    "feat_list = list(range(n_dims)) # feature 总list\r\n",
    "best_score = np.inf\r\n",
    "score_list = []\r\n",
    "acc_list = []\r\n",
    "\r\n",
    "# p_matrix = np.zeros((n_epochs, n_dims, n_dims))\r\n",
    "path_matrix = np.zeros((n_epochs, n_ants, n_dims))\r\n",
    "nf_matrix = np.zeros((n_epochs, n_ants))\r\n",
    "tau_matrix = np.zeros((n_epochs, n_dims, n_dims))\r\n",
    "best_matrix = np.zeros((n_epochs,))\r\n",
    "\r\n",
    "for epoch in range(n_epochs):\r\n",
    "\r\n",
    "    # ============ apply once fs ============\r\n",
    "    ant_path = np.zeros([n_ants, n_dims])           # 初始化每只蚂蚁在当前迭代中的路径\r\n",
    "    ant_acc = np.zeros(n_ants)\r\n",
    "    ant_score = np.zeros(n_ants)\r\n",
    "    n_feats = np.random.randint(1, n_dims, size=n_ants) # 初始化每只蚂蚁需要选择的特征数\r\n",
    "    # n_feats = 8 * np.ones([n_ants], dtype=np.int64)\r\n",
    "\r\n",
    "    for i in range(n_ants):\r\n",
    "\r\n",
    "        ant_path[i, 0] = np.random.randint(n_dims)  # 为每只蚂蚁选择起始节点（特征）\r\n",
    "        # ant_path[i, 0] = i\r\n",
    "        visited = []                                # 已选择的 feature list\r\n",
    "        \r\n",
    "        for d in range(n_feats[i]-1):               # 共选择 n_feats-1 次特征\r\n",
    "            visited.append(ant_path[i, d])          # 更新 selected 表\r\n",
    "            # eta = update_eta(train_data, train_label, test_data, test_label, visited)\r\n",
    "                                                    # 更新启发式信息, eta = TPR / d, array(n_dims,)\r\n",
    "            p = (tau[int(visited[-1])] ** alpha) * (eta[int(visited[-1])] ** beta)\r\n",
    "            p[[int(i) for i in visited]] = 0\r\n",
    "            prob = p / sum(p)                       # 计算路径转移矩阵\r\n",
    "            route = select_route(prob)              # 寻找下一个特征\r\n",
    "            ant_path[i, d+1] = route\r\n",
    "\r\n",
    "    path_matrix[epoch] = ant_path.copy()\r\n",
    "    nf_matrix[epoch] = n_feats.copy()\r\n",
    "\r\n",
    "    # ==== evaluate each selected subset ====\r\n",
    "    for j in range(n_ants):\r\n",
    "        selected = list(ant_path[j, :n_feats[j]])\r\n",
    "        f, acc = fitness_func(train_data, train_label, test_data, test_label, selected, omega)\r\n",
    "                                                    # 计算适应度函数\r\n",
    "        ant_score[j] = f\r\n",
    "        ant_acc[j] = acc\r\n",
    "        if f <= best_score:                          # 保存为全局的最优解\r\n",
    "            best_path = ant_path[j]\r\n",
    "            best_score = f\r\n",
    "            best_path_acc = acc\r\n",
    "    \r\n",
    "    best_ant = np.argmin(ant_score)                 # 最优蚂蚁\r\n",
    "    best_matrix[epoch] = best_ant\r\n",
    "    near_ant = np.argmin(np.concatenate([ant_score[:best_ant], [0], ant_score[best_ant+1:]]))\r\n",
    "                                                    # 第二优蚂蚁\r\n",
    "    print(\"Epoch {} Best Score: {}, the Accuracy: {}, Num of Features: {}\".format(\\\r\n",
    "        epoch, ant_score[best_ant], ant_acc[best_ant], n_feats[best_ant]))\r\n",
    "    \r\n",
    "    score_list.append(ant_score[best_ant])\r\n",
    "    acc_list.append(ant_acc[best_ant])\r\n",
    "\r\n",
    "    # ======== update the eta matrix ========\r\n",
    "    \r\n",
    "    # stage 1 updating\r\n",
    "    deta_tau_k = np.zeros([n_ants, n_dims, n_dims])\r\n",
    "    for k in range(n_ants):\r\n",
    "        value = mu * ant_acc[k] + (1-mu) / n_feats[k] # 更新值\r\n",
    "        for m in range(n_feats[k]-1):\r\n",
    "            a, b = int(ant_path[k, m]), int(ant_path[k, m+1])\r\n",
    "            deta_tau_k[int(k), a, b] = value\r\n",
    "\r\n",
    "    deta_tau_1 = np.sum(deta_tau_k, 0)\r\n",
    "\r\n",
    "    # stage 2 updating\r\n",
    "    deta_tau_2 = np.zeros([n_dims, n_dims])\r\n",
    "    for p in range(n_feats[best_ant]-1):\r\n",
    "        a, b = int(ant_path[best_ant, p]), int(ant_path[best_ant, p+1])\r\n",
    "        deta_tau_2[a, b] = gamma * deta_tau_1[a, b]\r\n",
    "        \r\n",
    "    for p in range(n_feats[near_ant]-1):\r\n",
    "        a, b = int(ant_path[near_ant, p]), int(ant_path[near_ant, p+1])\r\n",
    "        deta_tau_2[a, b] += (1-gamma) * deta_tau_1[a, b]\r\n",
    "    \r\n",
    "    # update\r\n",
    "    tau = (1-rho) * tau + rho * deta_tau_1 + deta_tau_2\r\n",
    "    tau_matrix[epoch] = tau.copy()\r\n",
    "\r\n",
    "print(\"The Best Ant Path: \", best_path)\r\n",
    "print(\"The Best Score: \", best_score)\r\n",
    "print(\"The Accuracy use Best Path: \", best_path_acc)\r\n",
    "\r\n"
   ]
  },
  {
   "cell_type": "code",
   "execution_count": 108,
   "metadata": {},
   "outputs": [],
   "source": [
    "tau_matrix = (tau_matrix - np.max(tau_matrix)) / (np.max(tau_matrix) - np.min(tau_matrix))"
   ]
  },
  {
   "cell_type": "code",
   "execution_count": 198,
   "metadata": {},
   "outputs": [],
   "source": [
    "from PIL import Image, ImageDraw\r\n",
    "\r\n",
    "# ground = np.zeros([256, 256], dtype=np.int64)\r\n",
    "img = Image.new('RGB', (256, 256), (255, 255, 255))\r\n",
    "draw = ImageDraw.Draw(img)\r\n",
    "\r\n",
    "floc = []\r\n",
    "for i in range(n_dims):\r\n",
    "    floc.append([np.random.randint(10,246), np.random.randint(10,246)])\r\n",
    "    draw.ellipse((floc[i][0]-2, floc[i][1]-2, floc[i][0]+2, floc[i][1]+2), fill=(0,0,0))\r\n",
    "\r\n",
    "img.show()"
   ]
  },
  {
   "cell_type": "code",
   "execution_count": null,
   "metadata": {},
   "outputs": [],
   "source": [
    "color = [tuple(np.random.randint(256, size=3)) for _ in range(n_ants)]"
   ]
  },
  {
   "cell_type": "code",
   "execution_count": 239,
   "metadata": {},
   "outputs": [],
   "source": [
    "# frame = []\r\n",
    "frames = [Image.new('RGB', (256, 256), (255, 255, 255)) for _ in range(path_matrix.shape[0])]\r\n",
    "for i in range(path_matrix.shape[0]):\r\n",
    "    draw = ImageDraw.Draw(frames[i])\r\n",
    "    draw.text((200, 10), u'epoch {}'.format(i+1), 'fuchsia')\r\n",
    "    for m in range(n_dims):\r\n",
    "        # floc.append([np.random.randint(2,254), np.random.randint(2,254)])\r\n",
    "        draw.ellipse((floc[m][0]-2, floc[m][1]-2, floc[m][0]+2, floc[m][1]+2), fill=(0,0,0))\r\n",
    "    \r\n",
    "    for k in range(n_ants):\r\n",
    "        for j in range(int(nf_matrix[i][k]-1)):\r\n",
    "            a, b = int(path_matrix[i,k,j]), int(path_matrix[i,k,j+1])\r\n",
    "            # draw = ImageDraw.Draw(img1)\r\n",
    "            draw.line((floc[a][0], floc[a][1], floc[b][0], floc[b][1]), fill=color[k])\r\n",
    "    \r\n",
    "    # frame.append(img.copy())"
   ]
  },
  {
   "cell_type": "code",
   "execution_count": 233,
   "metadata": {},
   "outputs": [],
   "source": [
    "# frame1 = [Image.new('RGB', (256, 256), (255, 255, 255)) for _ in range(int(nf_matrix[0][1]))]\r\n",
    "# print(len(frame1))\r\n",
    "# for i in range(path_matrix.shape[0]):\r\n",
    "#     draw = ImageDraw.Draw(frames[i])\r\n",
    "#     draw.text((200, 10), u'epoch {}'.format(i+1), 'fuchsia')\r\n",
    "#     for m in range(n_dims):\r\n",
    "#         # floc.append([np.random.randint(2,254), np.random.randint(2,254)])\r\n",
    "#         draw.ellipse((floc[m][0]-2, floc[m][1]-2, floc[m][0]+2, floc[m][1]+2), fill=(0,0,0))\r\n",
    "\r\n",
    "frame1 = []\r\n",
    "img = Image.new('RGB', (256, 256), (255, 255, 255))\r\n",
    "draw = ImageDraw.Draw(img)\r\n",
    "for m in range(n_dims):\r\n",
    "    # floc.append([np.random.randint(2,254), np.random.randint(2,254)])\r\n",
    "    draw.ellipse((floc[m][0]-2, floc[m][1]-2, floc[m][0]+2, floc[m][1]+2), fill=(0,0,0))\r\n",
    "frame1.append(img.copy())\r\n",
    "\r\n",
    "for j in range(int(nf_matrix[0][1]-1)):\r\n",
    "    # draw = ImageDraw.Draw(img)\r\n",
    "    # for m in range(n_dims):\r\n",
    "    #     # floc.append([np.random.randint(2,254), np.random.randint(2,254)])\r\n",
    "    #     draw.ellipse((floc[m][0]-2, floc[m][1]-2, floc[m][0]+2, floc[m][1]+2), fill=(0,0,0))\r\n",
    "    a, b = int(path_matrix[0,1,j]), int(path_matrix[0,1,j+1])\r\n",
    "    # draw = ImageDraw.Draw(img1)\r\n",
    "    draw.line((floc[a][0], floc[a][1], floc[b][0], floc[b][1]), fill=color[0])\r\n",
    "    frame1.append(img.copy())"
   ]
  },
  {
   "cell_type": "code",
   "execution_count": 249,
   "metadata": {},
   "outputs": [],
   "source": [
    "# frame = []\r\n",
    "frame2 = [Image.new('RGB', (256, 256), (255, 255, 255)) for _ in range(path_matrix.shape[0])]\r\n",
    "for i in range(path_matrix.shape[0]):\r\n",
    "    draw = ImageDraw.Draw(frame2[i])\r\n",
    "    draw.text((200, 10), u'epoch {}'.format(i+1), 'fuchsia')\r\n",
    "    for m in range(n_dims):\r\n",
    "        # floc.append([np.random.randint(2,254), np.random.randint(2,254)])\r\n",
    "        draw.ellipse((floc[m][0]-2, floc[m][1]-2, floc[m][0]+2, floc[m][1]+2), fill=(0,0,0))\r\n",
    "    \r\n",
    "    best = int(best_matrix[i])\r\n",
    "    for j in range(int(nf_matrix[i][best]-1)):\r\n",
    "        a, b = int(path_matrix[i,best,j]), int(path_matrix[i,best,j+1])\r\n",
    "        # draw = ImageDraw.Draw(img1)\r\n",
    "        draw.line((floc[a][0], floc[a][1], floc[b][0], floc[b][1]), fill=(30,144,255))\r\n",
    "    \r\n",
    "    # frame.append(img.copy())"
   ]
  },
  {
   "cell_type": "code",
   "execution_count": 200,
   "metadata": {},
   "outputs": [],
   "source": [
    "frame1[0].save('test2.gif', save_all=True, append_images=frame1, duration=2)"
   ]
  },
  {
   "cell_type": "code",
   "execution_count": 204,
   "metadata": {},
   "outputs": [],
   "source": [
    "frame1[16].show()"
   ]
  },
  {
   "cell_type": "code",
   "execution_count": 240,
   "metadata": {},
   "outputs": [],
   "source": [
    "frames[0].save('test.gif', save_all=True, append_images=frames, duration=2)"
   ]
  },
  {
   "cell_type": "code",
   "execution_count": 244,
   "metadata": {},
   "outputs": [],
   "source": [
    "frames[99].show()"
   ]
  },
  {
   "cell_type": "code",
   "execution_count": 250,
   "metadata": {},
   "outputs": [],
   "source": [
    "frame2[0].save('test3.gif', save_all=True, append_images=frame2, duration=2)"
   ]
  },
  {
   "cell_type": "code",
   "execution_count": 254,
   "metadata": {},
   "outputs": [],
   "source": [
    "frame2[99].show()"
   ]
  },
  {
   "cell_type": "code",
   "execution_count": 114,
   "metadata": {},
   "outputs": [
    {
     "data": {
      "image/png": "[encoded data removed]",
      "text/plain": "<Figure size 432x288 with 1 Axes>"
     },
     "metadata": {
      "needs_background": "light"
     },
     "output_type": "display_data"
    }
   ],
   "source": [
    "%matplotlib inline\r\n",
    "\r\n",
    "import matplotlib.pyplot as plt\r\n",
    "\r\n",
    "plt.figure(\"tau matrix\") # 图像窗口名称\r\n",
    "plt.imshow(tau_matrix[0], cmap='viridis')\r\n",
    "plt.axis('off') # 关掉坐标轴为 off\r\n",
    "plt.title('tau matrix epoch=1') # 图像题目\r\n",
    "plt.show()"
   ]
  },
  {
   "cell_type": "code",
   "execution_count": 115,
   "metadata": {},
   "outputs": [
    {
     "data": {
      "image/png": "[encoded data removed]",
      "text/plain": "<Figure size 432x288 with 1 Axes>"
     },
     "metadata": {
      "needs_background": "light"
     },
     "output_type": "display_data"
    }
   ],
   "source": [
    "plt.figure(\"tau matrix\") # 图像窗口名称\r\n",
    "plt.imshow(tau_matrix[9])\r\n",
    "plt.axis('off') # 关掉坐标轴为 off\r\n",
    "plt.title('tau matrix epoch=10') # 图像题目\r\n",
    "plt.show()"
   ]
  },
  {
   "cell_type": "code",
   "execution_count": 116,
   "metadata": {},
   "outputs": [
    {
     "data": {
      "image/png": "[encoded data removed]",
      "text/plain": "<Figure size 432x288 with 1 Axes>"
     },
     "metadata": {
      "needs_background": "light"
     },
     "output_type": "display_data"
    }
   ],
   "source": [
    "plt.figure(\"tau matrix\") # 图像窗口名称\r\n",
    "plt.imshow(tau_matrix[49])\r\n",
    "plt.axis('off') # 关掉坐标轴为 off\r\n",
    "plt.title('tau matrix epoch=50') # 图像题目\r\n",
    "plt.show()"
   ]
  },
  {
   "cell_type": "code",
   "execution_count": 118,
   "metadata": {},
   "outputs": [
    {
     "data": {
      "image/png": "[encoded data removed]",
      "text/plain": "<Figure size 432x288 with 1 Axes>"
     },
     "metadata": {
      "needs_background": "light"
     },
     "output_type": "display_data"
    }
   ],
   "source": [
    "plt.figure(\"tau matrix\") # 图像窗口名称\r\n",
    "plt.imshow(tau_matrix[99])\r\n",
    "plt.axis('off') # 关掉坐标轴为 off\r\n",
    "plt.title('tau matrix epoch=100') # 图像题目\r\n",
    "plt.show()\r\n",
    "\r\n"
   ]
  },
  {
   "cell_type": "code",
   "execution_count": 141,
   "metadata": {},
   "outputs": [],
   "source": [
    "mc2_path = path_matrix\r\n",
    "mc2_acc = acc_list\r\n",
    "mc2_score = score_list\r\n",
    "mc2_feats = nf_matrix"
   ]
  },
  {
   "cell_type": "code",
   "execution_count": 122,
   "metadata": {},
   "outputs": [],
   "source": [
    "pc4_path = path_matrix\r\n",
    "pc4_acc = acc_list\r\n",
    "pc4_score = score_list"
   ]
  },
  {
   "cell_type": "code",
   "execution_count": 127,
   "metadata": {},
   "outputs": [],
   "source": [
    "mw1_path = path_matrix\r\n",
    "mw1_acc = acc_list\r\n",
    "mw1_score = score_list"
   ]
  },
  {
   "cell_type": "code",
   "execution_count": 128,
   "metadata": {},
   "outputs": [
    {
     "data": {
      "text/plain": "100"
     },
     "execution_count": 128,
     "metadata": {},
     "output_type": "execute_result"
    }
   ],
   "source": [
    "len(mw1_acc)"
   ]
  },
  {
   "cell_type": "code",
   "execution_count": 131,
   "metadata": {},
   "outputs": [
    {
     "data": {
      "image/png": "[encoded data removed]",
      "text/plain": "<Figure size 432x288 with 1 Axes>"
     },
     "metadata": {
      "needs_background": "light"
     },
     "output_type": "display_data"
    }
   ],
   "source": [
    "plt.figure()\r\n",
    "x = list(range(1, 101))\r\n",
    "plt.title(\"epoch-acc\")\r\n",
    "plt.plot(x, mc2_acc, color='red', linewidth=1.0, linestyle='--', label='MC2')\r\n",
    "plt.plot(x, pc4_acc, color='blue', linewidth=1.0, linestyle='--', label='PC4')\r\n",
    "plt.plot(x, mw1_acc, color='green', linewidth=1.0, linestyle='--', label='MW1')\r\n",
    "plt.legend(loc='best')\r\n",
    "plt.xlabel('epoch', fontdict={'size': 10, 'color': 'black'})\r\n",
    "plt.ylabel('acc', fontdict={'size': 10, 'color': 'black'})\r\n",
    "plt.show()"
   ]
  },
  {
   "cell_type": "code",
   "execution_count": 132,
   "metadata": {},
   "outputs": [
    {
     "data": {
      "image/png": "[encoded data removed]",
      "text/plain": "<Figure size 432x288 with 1 Axes>"
     },
     "metadata": {
      "needs_background": "light"
     },
     "output_type": "display_data"
    }
   ],
   "source": [
    "plt.figure()\r\n",
    "x = list(range(1, 101))\r\n",
    "plt.title(\"epoch-score\")\r\n",
    "plt.plot(x, mc2_score, color='red', linewidth=1.0, linestyle='--', label='MC2')\r\n",
    "plt.plot(x, pc4_score, color='blue', linewidth=1.0, linestyle='--', label='PC4')\r\n",
    "plt.plot(x, mw1_score, color='green', linewidth=1.0, linestyle='--', label='MW1')\r\n",
    "plt.legend(loc='best')\r\n",
    "plt.xlabel('epoch', fontdict={'size': 10, 'color': 'black'})\r\n",
    "plt.ylabel('score', fontdict={'size': 10, 'color': 'black'})\r\n",
    "plt.show()"
   ]
  },
  {
   "cell_type": "code",
   "execution_count": 48,
   "metadata": {},
   "outputs": [
    {
     "name": "stderr",
     "output_type": "stream",
     "text": [
      "  3%|▎         | 1/37 [00:00<00:05,  6.15it/s]"
     ]
    },
    {
     "name": "stdout",
     "output_type": "stream",
     "text": [
      "the Num of the total features: 37\n"
     ]
    },
    {
     "name": "stderr",
     "output_type": "stream",
     "text": [
      "100%|██████████| 37/37 [00:07<00:00,  5.23it/s]\n",
      "D:\\Software\\Anaconda3\\envs\\torch\\lib\\site-packages\\ipykernel_launcher.py:46: RuntimeWarning: invalid value encountered in true_divide\n",
      "D:\\Software\\Anaconda3\\envs\\torch\\lib\\site-packages\\ipykernel_launcher.py:46: RuntimeWarning: invalid value encountered in true_divide\n",
      "D:\\Software\\Anaconda3\\envs\\torch\\lib\\site-packages\\ipykernel_launcher.py:46: RuntimeWarning: invalid value encountered in true_divide\n",
      "D:\\Software\\Anaconda3\\envs\\torch\\lib\\site-packages\\ipykernel_launcher.py:46: RuntimeWarning: invalid value encountered in true_divide\n",
      "D:\\Software\\Anaconda3\\envs\\torch\\lib\\site-packages\\ipykernel_launcher.py:46: RuntimeWarning: invalid value encountered in true_divide\n",
      "D:\\Software\\Anaconda3\\envs\\torch\\lib\\site-packages\\ipykernel_launcher.py:46: RuntimeWarning: invalid value encountered in true_divide\n"
     ]
    },
    {
     "name": "stdout",
     "output_type": "stream",
     "text": [
      "init finishing\n",
      "Epoch 0 Best Score: 0.09770620829056637, the Accuracy: 0.9135802469135802, Num of Features: 2\n",
      "Epoch 1 Best Score: 0.09929305596873186, the Accuracy: 0.9135802469135802, Num of Features: 4\n",
      "Epoch 2 Best Score: 0.0937800098556649, the Accuracy: 0.9259259259259259, Num of Features: 9\n",
      "Epoch 3 Best Score: 0.10865141093643887, the Accuracy: 0.9135802469135802, Num of Features: 14\n",
      "Epoch 4 Best Score: 0.09929305596873186, the Accuracy: 0.9135802469135802, Num of Features: 4\n",
      "Epoch 5 Best Score: 0.10096803979622046, the Accuracy: 0.9135802469135802, Num of Features: 6\n",
      "Epoch 6 Best Score: 0.10449243888495878, the Accuracy: 0.9259259259259259, Num of Features: 19\n",
      "Epoch 7 Best Score: 0.10449243888495878, the Accuracy: 0.9259259259259259, Num of Features: 19\n",
      "Epoch 8 Best Score: 0.09929305596873186, the Accuracy: 0.9135802469135802, Num of Features: 4\n",
      "Epoch 9 Best Score: 0.09569734954187077, the Accuracy: 0.9259259259259259, Num of Features: 11\n",
      "Epoch 10 Best Score: 0.09929305596873186, the Accuracy: 0.9135802469135802, Num of Features: 4\n",
      "Epoch 11 Best Score: 0.10365655306554147, the Accuracy: 0.9135802469135802, Num of Features: 9\n"
     ]
    },
    {
     "name": "stderr",
     "output_type": "stream",
     "text": [
      "D:\\Software\\Anaconda3\\envs\\torch\\lib\\site-packages\\ipykernel_launcher.py:46: RuntimeWarning: invalid value encountered in true_divide\n",
      "D:\\Software\\Anaconda3\\envs\\torch\\lib\\site-packages\\ipykernel_launcher.py:46: RuntimeWarning: invalid value encountered in true_divide\n",
      "D:\\Software\\Anaconda3\\envs\\torch\\lib\\site-packages\\ipykernel_launcher.py:46: RuntimeWarning: invalid value encountered in true_divide\n",
      "D:\\Software\\Anaconda3\\envs\\torch\\lib\\site-packages\\ipykernel_launcher.py:46: RuntimeWarning: invalid value encountered in true_divide\n",
      "D:\\Software\\Anaconda3\\envs\\torch\\lib\\site-packages\\ipykernel_launcher.py:46: RuntimeWarning: invalid value encountered in true_divide\n",
      "D:\\Software\\Anaconda3\\envs\\torch\\lib\\site-packages\\ipykernel_launcher.py:46: RuntimeWarning: invalid value encountered in true_divide\n"
     ]
    },
    {
     "name": "stdout",
     "output_type": "stream",
     "text": [
      "Epoch 12 Best Score: 0.10011923111304472, the Accuracy: 0.9135802469135802, Num of Features: 5\n",
      "Epoch 13 Best Score: 0.10184010207695361, the Accuracy: 0.9135802469135802, Num of Features: 7\n",
      "Epoch 14 Best Score: 0.09985742033794388, the Accuracy: 0.9259259259259259, Num of Features: 15\n",
      "Epoch 15 Best Score: 0.10759772466100134, the Accuracy: 0.9135802469135802, Num of Features: 13\n",
      "Epoch 16 Best Score: 0.1027360550008, the Accuracy: 0.9135802469135802, Num of Features: 8\n",
      "Epoch 17 Best Score: 0.10449243888495878, the Accuracy: 0.9259259259259259, Num of Features: 19\n",
      "Epoch 18 Best Score: 0.10700476462907696, the Accuracy: 0.9259259259259259, Num of Features: 21\n",
      "Epoch 19 Best Score: 0.09770620829056637, the Accuracy: 0.9135802469135802, Num of Features: 2"
     ]
    },
    {
     "name": "stderr",
     "output_type": "stream",
     "text": [
      "D:\\Software\\Anaconda3\\envs\\torch\\lib\\site-packages\\ipykernel_launcher.py:46: RuntimeWarning: invalid value encountered in true_divide\n",
      "D:\\Software\\Anaconda3\\envs\\torch\\lib\\site-packages\\ipykernel_launcher.py:46: RuntimeWarning: invalid value encountered in true_divide\n",
      "D:\\Software\\Anaconda3\\envs\\torch\\lib\\site-packages\\ipykernel_launcher.py:46: RuntimeWarning: invalid value encountered in true_divide\n",
      "D:\\Software\\Anaconda3\\envs\\torch\\lib\\site-packages\\ipykernel_launcher.py:46: RuntimeWarning: invalid value encountered in true_divide\n",
      "D:\\Software\\Anaconda3\\envs\\torch\\lib\\site-packages\\ipykernel_launcher.py:46: RuntimeWarning: invalid value encountered in true_divide\n",
      "D:\\Software\\Anaconda3\\envs\\torch\\lib\\site-packages\\ipykernel_launcher.py:46: RuntimeWarning: invalid value encountered in true_divide\n",
      "D:\\Software\\Anaconda3\\envs\\torch\\lib\\site-packages\\ipykernel_launcher.py:46: RuntimeWarning: invalid value encountered in true_divide\n",
      "D:\\Software\\Anaconda3\\envs\\torch\\lib\\site-packages\\ipykernel_launcher.py:46: RuntimeWarning: invalid value encountered in true_divide\n"
     ]
    },
    {
     "name": "stdout",
     "output_type": "stream",
     "text": [
      "\n",
      "Epoch 20 Best Score: 0.10211230947211136, the Accuracy: 0.9259259259259259, Num of Features: 17\n",
      "Epoch 21 Best Score: 0.1027360550008, the Accuracy: 0.9135802469135802, Num of Features: 8\n",
      "Epoch 22 Best Score: 0.09770620829056637, the Accuracy: 0.9135802469135802, Num of Features: 2\n",
      "Epoch 23 Best Score: 0.10096803979622046, the Accuracy: 0.9135802469135802, Num of Features: 6\n",
      "Epoch 24 Best Score: 0.1065721349987784, the Accuracy: 0.9135802469135802, Num of Features: 12\n",
      "Epoch 25 Best Score: 0.10011923111304472, the Accuracy: 0.9135802469135802, Num of Features: 5\n"
     ]
    },
    {
     "name": "stderr",
     "output_type": "stream",
     "text": [
      "D:\\Software\\Anaconda3\\envs\\torch\\lib\\site-packages\\ipykernel_launcher.py:46: RuntimeWarning: invalid value encountered in true_divide\n",
      "D:\\Software\\Anaconda3\\envs\\torch\\lib\\site-packages\\ipykernel_launcher.py:46: RuntimeWarning: invalid value encountered in true_divide\n",
      "D:\\Software\\Anaconda3\\envs\\torch\\lib\\site-packages\\ipykernel_launcher.py:46: RuntimeWarning: invalid value encountered in true_divide\n",
      "D:\\Software\\Anaconda3\\envs\\torch\\lib\\site-packages\\ipykernel_launcher.py:46: RuntimeWarning: invalid value encountered in true_divide\n",
      "D:\\Software\\Anaconda3\\envs\\torch\\lib\\site-packages\\ipykernel_launcher.py:46: RuntimeWarning: invalid value encountered in true_divide\n",
      "D:\\Software\\Anaconda3\\envs\\torch\\lib\\site-packages\\ipykernel_launcher.py:46: RuntimeWarning: invalid value encountered in true_divide\n",
      "D:\\Software\\Anaconda3\\envs\\torch\\lib\\site-packages\\ipykernel_launcher.py:46: RuntimeWarning: invalid value encountered in true_divide\n"
     ]
    },
    {
     "name": "stdout",
     "output_type": "stream",
     "text": [
      "Epoch 26 Best Score: 0.09848891083849282, the Accuracy: 0.9135802469135802, Num of Features: 3\n",
      "Epoch 27 Best Score: 0.11541040557844992, the Accuracy: 0.9259259259259259, Num of Features: 27\n",
      "Epoch 28 Best Score: 0.10011923111304472, the Accuracy: 0.9135802469135802, Num of Features: 5\n",
      "Epoch 29 Best Score: 0.09848891083849282, the Accuracy: 0.9135802469135802, Num of Features: 3\n",
      "Epoch 30 Best Score: 0.10011923111304472, the Accuracy: 0.9135802469135802, Num of Features: 5\n",
      "Epoch 31 Best Score: 0.09772118145112474, the Accuracy: 0.9259259259259259, Num of Features: 13\n",
      "Epoch 32 Best Score: 0.09929305596873186, the Accuracy: 0.9135802469135802, Num of Features: 4\n"
     ]
    },
    {
     "name": "stderr",
     "output_type": "stream",
     "text": [
      "D:\\Software\\Anaconda3\\envs\\torch\\lib\\site-packages\\ipykernel_launcher.py:46: RuntimeWarning: invalid value encountered in true_divide\n",
      "D:\\Software\\Anaconda3\\envs\\torch\\lib\\site-packages\\ipykernel_launcher.py:46: RuntimeWarning: invalid value encountered in true_divide\n",
      "D:\\Software\\Anaconda3\\envs\\torch\\lib\\site-packages\\ipykernel_launcher.py:46: RuntimeWarning: invalid value encountered in true_divide\n",
      "D:\\Software\\Anaconda3\\envs\\torch\\lib\\site-packages\\ipykernel_launcher.py:46: RuntimeWarning: invalid value encountered in true_divide\n",
      "D:\\Software\\Anaconda3\\envs\\torch\\lib\\site-packages\\ipykernel_launcher.py:46: RuntimeWarning: invalid value encountered in true_divide\n",
      "D:\\Software\\Anaconda3\\envs\\torch\\lib\\site-packages\\ipykernel_launcher.py:46: RuntimeWarning: invalid value encountered in true_divide\n",
      "D:\\Software\\Anaconda3\\envs\\torch\\lib\\site-packages\\ipykernel_launcher.py:46: RuntimeWarning: invalid value encountered in true_divide\n"
     ]
    },
    {
     "name": "stdout",
     "output_type": "stream",
     "text": [
      "Epoch 33 Best Score: 0.10836545404836931, the Accuracy: 0.9012345679012346, Num of Features: 3\n",
      "Epoch 34 Best Score: 0.09877486772656227, the Accuracy: 0.9259259259259259, Num of Features: 14\n",
      "Epoch 35 Best Score: 0.09877486772656227, the Accuracy: 0.9259259259259259, Num of Features: 14\n",
      "Epoch 36 Best Score: 0.10365655306554147, the Accuracy: 0.9135802469135802, Num of Features: 9\n",
      "Epoch 37 Best Score: 0.12303937962166012, the Accuracy: 0.9012345679012346, Num of Features: 18\n",
      "Epoch 38 Best Score: 0.09770620829056637, the Accuracy: 0.9135802469135802, Num of Features: 2\n",
      "Epoch 39 Best Score: 0.10096963009499182, the Accuracy: 0.9259259259259259, Num of Features: 16\n",
      "Epoch 40 Best Score: 0.10557389275174736, the Accuracy: 0.9135802469135802, Num of Features: 11"
     ]
    },
    {
     "name": "stderr",
     "output_type": "stream",
     "text": [
      "D:\\Software\\Anaconda3\\envs\\torch\\lib\\site-packages\\ipykernel_launcher.py:46: RuntimeWarning: invalid value encountered in true_divide\n",
      "D:\\Software\\Anaconda3\\envs\\torch\\lib\\site-packages\\ipykernel_launcher.py:46: RuntimeWarning: invalid value encountered in true_divide\n",
      "D:\\Software\\Anaconda3\\envs\\torch\\lib\\site-packages\\ipykernel_launcher.py:46: RuntimeWarning: invalid value encountered in true_divide\n",
      "D:\\Software\\Anaconda3\\envs\\torch\\lib\\site-packages\\ipykernel_launcher.py:46: RuntimeWarning: invalid value encountered in true_divide\n",
      "D:\\Software\\Anaconda3\\envs\\torch\\lib\\site-packages\\ipykernel_launcher.py:46: RuntimeWarning: invalid value encountered in true_divide\n",
      "D:\\Software\\Anaconda3\\envs\\torch\\lib\\site-packages\\ipykernel_launcher.py:46: RuntimeWarning: invalid value encountered in true_divide\n",
      "D:\\Software\\Anaconda3\\envs\\torch\\lib\\site-packages\\ipykernel_launcher.py:46: RuntimeWarning: invalid value encountered in true_divide\n"
     ]
    },
    {
     "name": "stdout",
     "output_type": "stream",
     "text": [
      "\n",
      "Epoch 41 Best Score: 0.10758275150044286, the Accuracy: 0.9012345679012346, Num of Features: 2\n",
      "Epoch 42 Best Score: 0.10449243888495878, the Accuracy: 0.9259259259259259, Num of Features: 19\n",
      "Epoch 43 Best Score: 0.10916959917860836, the Accuracy: 0.9012345679012346, Num of Features: 4\n",
      "Epoch 44 Best Score: 0.10011923111304472, the Accuracy: 0.9135802469135802, Num of Features: 5\n",
      "Epoch 45 Best Score: 0.10328629320190705, the Accuracy: 0.9259259259259259, Num of Features: 18\n",
      "Epoch 46 Best Score: 0.09985742033794388, the Accuracy: 0.9259259259259259, Num of Features: 15\n"
     ]
    },
    {
     "name": "stderr",
     "output_type": "stream",
     "text": [
      "D:\\Software\\Anaconda3\\envs\\torch\\lib\\site-packages\\ipykernel_launcher.py:46: RuntimeWarning: invalid value encountered in true_divide\n",
      "D:\\Software\\Anaconda3\\envs\\torch\\lib\\site-packages\\ipykernel_launcher.py:46: RuntimeWarning: invalid value encountered in true_divide\n",
      "D:\\Software\\Anaconda3\\envs\\torch\\lib\\site-packages\\ipykernel_launcher.py:46: RuntimeWarning: invalid value encountered in true_divide\n",
      "D:\\Software\\Anaconda3\\envs\\torch\\lib\\site-packages\\ipykernel_launcher.py:46: RuntimeWarning: invalid value encountered in true_divide\n",
      "D:\\Software\\Anaconda3\\envs\\torch\\lib\\site-packages\\ipykernel_launcher.py:46: RuntimeWarning: invalid value encountered in true_divide\n",
      "D:\\Software\\Anaconda3\\envs\\torch\\lib\\site-packages\\ipykernel_launcher.py:46: RuntimeWarning: invalid value encountered in true_divide\n",
      "D:\\Software\\Anaconda3\\envs\\torch\\lib\\site-packages\\ipykernel_launcher.py:46: RuntimeWarning: invalid value encountered in true_divide\n"
     ]
    },
    {
     "name": "stdout",
     "output_type": "stream",
     "text": [
      "Epoch 47 Best Score: 0.10096803979622046, the Accuracy: 0.9135802469135802, Num of Features: 6\n",
      "Epoch 48 Best Score: 0.09569734954187077, the Accuracy: 0.9259259259259259, Num of Features: 11\n",
      "Epoch 49 Best Score: 0.10682091976697401, the Accuracy: 0.9012345679012346, Num of Features: 1\n",
      "Epoch 50 Best Score: 0.10682091976697401, the Accuracy: 0.9012345679012346, Num of Features: 1\n",
      "Epoch 51 Best Score: 0.10184010207695361, the Accuracy: 0.9135802469135802, Num of Features: 7\n",
      "Epoch 52 Best Score: 0.09985742033794388, the Accuracy: 0.9259259259259259, Num of Features: 15\n",
      "Epoch 53 Best Score: 0.11198885268198797, the Accuracy: 0.9135802469135802, Num of Features: 17\n",
      "Epoch 54 Best Score: 0.09569734954187077, the Accuracy: 0.9259259259259259, Num of Features: 11\n"
     ]
    },
    {
     "name": "stderr",
     "output_type": "stream",
     "text": [
      "D:\\Software\\Anaconda3\\envs\\torch\\lib\\site-packages\\ipykernel_launcher.py:46: RuntimeWarning: invalid value encountered in true_divide\n",
      "D:\\Software\\Anaconda3\\envs\\torch\\lib\\site-packages\\ipykernel_launcher.py:46: RuntimeWarning: invalid value encountered in true_divide\n",
      "D:\\Software\\Anaconda3\\envs\\torch\\lib\\site-packages\\ipykernel_launcher.py:46: RuntimeWarning: invalid value encountered in true_divide\n",
      "D:\\Software\\Anaconda3\\envs\\torch\\lib\\site-packages\\ipykernel_launcher.py:46: RuntimeWarning: invalid value encountered in true_divide\n",
      "D:\\Software\\Anaconda3\\envs\\torch\\lib\\site-packages\\ipykernel_launcher.py:46: RuntimeWarning: invalid value encountered in true_divide\n",
      "D:\\Software\\Anaconda3\\envs\\torch\\lib\\site-packages\\ipykernel_launcher.py:46: RuntimeWarning: invalid value encountered in true_divide\n",
      "D:\\Software\\Anaconda3\\envs\\torch\\lib\\site-packages\\ipykernel_launcher.py:46: RuntimeWarning: invalid value encountered in true_divide\n",
      "D:\\Software\\Anaconda3\\envs\\torch\\lib\\site-packages\\ipykernel_launcher.py:46: RuntimeWarning: invalid value encountered in true_divide\n"
     ]
    },
    {
     "name": "stdout",
     "output_type": "stream",
     "text": [
      "Epoch 55 Best Score: 0.09929305596873186, the Accuracy: 0.9135802469135802, Num of Features: 4\n",
      "Epoch 56 Best Score: 0.10682091976697401, the Accuracy: 0.9012345679012346, Num of Features: 1\n",
      "Epoch 57 Best Score: 0.10365655306554147, the Accuracy: 0.9135802469135802, Num of Features: 9\n",
      "Epoch 58 Best Score: 0.1027360550008, the Accuracy: 0.9135802469135802, Num of Features: 8\n",
      "Epoch 59 Best Score: 0.09985742033794388, the Accuracy: 0.9259259259259259, Num of Features: 15\n",
      "Epoch 60 Best Score: 0.10758275150044286, the Accuracy: 0.9012345679012346, Num of Features: 2\n",
      "Epoch 61 Best Score: 0.09929305596873186, the Accuracy: 0.9135802469135802, Num of Features: 4\n"
     ]
    },
    {
     "name": "stderr",
     "output_type": "stream",
     "text": [
      "D:\\Software\\Anaconda3\\envs\\torch\\lib\\site-packages\\ipykernel_launcher.py:46: RuntimeWarning: invalid value encountered in true_divide\n",
      "D:\\Software\\Anaconda3\\envs\\torch\\lib\\site-packages\\ipykernel_launcher.py:46: RuntimeWarning: invalid value encountered in true_divide\n",
      "D:\\Software\\Anaconda3\\envs\\torch\\lib\\site-packages\\ipykernel_launcher.py:46: RuntimeWarning: invalid value encountered in true_divide\n",
      "D:\\Software\\Anaconda3\\envs\\torch\\lib\\site-packages\\ipykernel_launcher.py:46: RuntimeWarning: invalid value encountered in true_divide\n",
      "D:\\Software\\Anaconda3\\envs\\torch\\lib\\site-packages\\ipykernel_launcher.py:46: RuntimeWarning: invalid value encountered in true_divide\n",
      "D:\\Software\\Anaconda3\\envs\\torch\\lib\\site-packages\\ipykernel_launcher.py:46: RuntimeWarning: invalid value encountered in true_divide\n",
      "D:\\Software\\Anaconda3\\envs\\torch\\lib\\site-packages\\ipykernel_launcher.py:46: RuntimeWarning: invalid value encountered in true_divide\n"
     ]
    },
    {
     "name": "stdout",
     "output_type": "stream",
     "text": [
      "Epoch 62 Best Score: 0.10184010207695361, the Accuracy: 0.9135802469135802, Num of Features: 7\n",
      "Epoch 63 Best Score: 0.10011923111304472, the Accuracy: 0.9135802469135802, Num of Features: 5\n",
      "Epoch 64 Best Score: 0.09985742033794388, the Accuracy: 0.9259259259259259, Num of Features: 15\n",
      "Epoch 65 Best Score: 0.09669559178890183, the Accuracy: 0.9259259259259259, Num of Features: 12\n",
      "Epoch 66 Best Score: 0.10096803979622046, the Accuracy: 0.9135802469135802, Num of Features: 6\n",
      "Epoch 67 Best Score: 0.10096803979622046, the Accuracy: 0.9135802469135802, Num of Features: 6\n",
      "Epoch 68 Best Score: 0.10557389275174736, the Accuracy: 0.9135802469135802, Num of Features: 11\n",
      "Epoch 69 Best Score: 0.10096803979622046, the Accuracy: 0.9135802469135802, Num of Features: 6"
     ]
    },
    {
     "name": "stderr",
     "output_type": "stream",
     "text": [
      "D:\\Software\\Anaconda3\\envs\\torch\\lib\\site-packages\\ipykernel_launcher.py:46: RuntimeWarning: invalid value encountered in true_divide\n",
      "D:\\Software\\Anaconda3\\envs\\torch\\lib\\site-packages\\ipykernel_launcher.py:46: RuntimeWarning: invalid value encountered in true_divide\n",
      "D:\\Software\\Anaconda3\\envs\\torch\\lib\\site-packages\\ipykernel_launcher.py:46: RuntimeWarning: invalid value encountered in true_divide\n",
      "D:\\Software\\Anaconda3\\envs\\torch\\lib\\site-packages\\ipykernel_launcher.py:46: RuntimeWarning: invalid value encountered in true_divide\n",
      "D:\\Software\\Anaconda3\\envs\\torch\\lib\\site-packages\\ipykernel_launcher.py:46: RuntimeWarning: invalid value encountered in true_divide\n",
      "D:\\Software\\Anaconda3\\envs\\torch\\lib\\site-packages\\ipykernel_launcher.py:46: RuntimeWarning: invalid value encountered in true_divide\n",
      "D:\\Software\\Anaconda3\\envs\\torch\\lib\\site-packages\\ipykernel_launcher.py:46: RuntimeWarning: invalid value encountered in true_divide\n"
     ]
    },
    {
     "name": "stdout",
     "output_type": "stream",
     "text": [
      "\n",
      "Epoch 70 Best Score: 0.0937800098556649, the Accuracy: 0.9259259259259259, Num of Features: 9\n",
      "Epoch 71 Best Score: 0.11084617330486843, the Accuracy: 0.9135802469135802, Num of Features: 16\n",
      "Epoch 72 Best Score: 0.11541040557844992, the Accuracy: 0.9259259259259259, Num of Features: 27\n",
      "Epoch 73 Best Score: 0.09877486772656227, the Accuracy: 0.9259259259259259, Num of Features: 14\n",
      "Epoch 74 Best Score: 0.10557389275174736, the Accuracy: 0.9135802469135802, Num of Features: 11\n",
      "Epoch 75 Best Score: 0.1027360550008, the Accuracy: 0.9135802469135802, Num of Features: 8\n"
     ]
    },
    {
     "name": "stderr",
     "output_type": "stream",
     "text": [
      "D:\\Software\\Anaconda3\\envs\\torch\\lib\\site-packages\\ipykernel_launcher.py:46: RuntimeWarning: invalid value encountered in true_divide\n",
      "D:\\Software\\Anaconda3\\envs\\torch\\lib\\site-packages\\ipykernel_launcher.py:46: RuntimeWarning: invalid value encountered in true_divide\n",
      "D:\\Software\\Anaconda3\\envs\\torch\\lib\\site-packages\\ipykernel_launcher.py:46: RuntimeWarning: invalid value encountered in true_divide\n",
      "D:\\Software\\Anaconda3\\envs\\torch\\lib\\site-packages\\ipykernel_launcher.py:46: RuntimeWarning: invalid value encountered in true_divide\n",
      "D:\\Software\\Anaconda3\\envs\\torch\\lib\\site-packages\\ipykernel_launcher.py:46: RuntimeWarning: invalid value encountered in true_divide\n",
      "D:\\Software\\Anaconda3\\envs\\torch\\lib\\site-packages\\ipykernel_launcher.py:46: RuntimeWarning: invalid value encountered in true_divide\n",
      "D:\\Software\\Anaconda3\\envs\\torch\\lib\\site-packages\\ipykernel_launcher.py:46: RuntimeWarning: invalid value encountered in true_divide\n",
      "D:\\Software\\Anaconda3\\envs\\torch\\lib\\site-packages\\ipykernel_launcher.py:46: RuntimeWarning: invalid value encountered in true_divide\n",
      "D:\\Software\\Anaconda3\\envs\\torch\\lib\\site-packages\\ipykernel_launcher.py:46: RuntimeWarning: invalid value encountered in true_divide\n",
      "D:\\Software\\Anaconda3\\envs\\torch\\lib\\site-packages\\ipykernel_launcher.py:46: RuntimeWarning: invalid value encountered in true_divide\n",
      "D:\\Software\\Anaconda3\\envs\\torch\\lib\\site-packages\\ipykernel_launcher.py:46: RuntimeWarning: invalid value encountered in true_divide\n",
      "D:\\Software\\Anaconda3\\envs\\torch\\lib\\site-packages\\ipykernel_launcher.py:46: RuntimeWarning: invalid value encountered in true_divide\n",
      "D:\\Software\\Anaconda3\\envs\\torch\\lib\\site-packages\\ipykernel_launcher.py:46: RuntimeWarning: invalid value encountered in true_divide\n"
     ]
    },
    {
     "name": "stdout",
     "output_type": "stream",
     "text": [
      "Epoch 76 Best Score: 0.10460226869929956, the Accuracy: 0.9135802469135802, Num of Features: 10\n",
      "Epoch 77 Best Score: 0.1065721349987784, the Accuracy: 0.9135802469135802, Num of Features: 12\n",
      "Epoch 78 Best Score: 0.1027360550008, the Accuracy: 0.9135802469135802, Num of Features: 8\n",
      "Epoch 79 Best Score: 0.10682091976697401, the Accuracy: 0.9012345679012346, Num of Features: 1\n",
      "Epoch 80 Best Score: 0.10449243888495878, the Accuracy: 0.9259259259259259, Num of Features: 19\n",
      "Epoch 81 Best Score: 0.1027360550008, the Accuracy: 0.9135802469135802, Num of Features: 8\n",
      "Epoch 82 Best Score: 0.10365655306554147, the Accuracy: 0.9135802469135802, Num of Features: 9\n"
     ]
    },
    {
     "name": "stderr",
     "output_type": "stream",
     "text": [
      "D:\\Software\\Anaconda3\\envs\\torch\\lib\\site-packages\\ipykernel_launcher.py:46: RuntimeWarning: invalid value encountered in true_divide\n",
      "D:\\Software\\Anaconda3\\envs\\torch\\lib\\site-packages\\ipykernel_launcher.py:46: RuntimeWarning: invalid value encountered in true_divide\n",
      "D:\\Software\\Anaconda3\\envs\\torch\\lib\\site-packages\\ipykernel_launcher.py:46: RuntimeWarning: invalid value encountered in true_divide\n",
      "D:\\Software\\Anaconda3\\envs\\torch\\lib\\site-packages\\ipykernel_launcher.py:46: RuntimeWarning: invalid value encountered in true_divide\n",
      "D:\\Software\\Anaconda3\\envs\\torch\\lib\\site-packages\\ipykernel_launcher.py:46: RuntimeWarning: invalid value encountered in true_divide\n",
      "D:\\Software\\Anaconda3\\envs\\torch\\lib\\site-packages\\ipykernel_launcher.py:46: RuntimeWarning: invalid value encountered in true_divide\n"
     ]
    },
    {
     "name": "stdout",
     "output_type": "stream",
     "text": [
      "Epoch 83 Best Score: 0.11198885268198797, the Accuracy: 0.9135802469135802, Num of Features: 17\n",
      "Epoch 84 Best Score: 0.1027360550008, the Accuracy: 0.9135802469135802, Num of Features: 8\n",
      "Epoch 85 Best Score: 0.10965662910774328, the Accuracy: 0.9259259259259259, Num of Features: 23\n",
      "Epoch 86 Best Score: 0.09848891083849282, the Accuracy: 0.9135802469135802, Num of Features: 3\n",
      "Epoch 87 Best Score: 0.10184010207695361, the Accuracy: 0.9135802469135802, Num of Features: 7\n",
      "Epoch 88 Best Score: 0.08782966508068978, the Accuracy: 0.9259259259259259, Num of Features: 2\n"
     ]
    },
    {
     "name": "stderr",
     "output_type": "stream",
     "text": [
      "D:\\Software\\Anaconda3\\envs\\torch\\lib\\site-packages\\ipykernel_launcher.py:46: RuntimeWarning: invalid value encountered in true_divide\n",
      "D:\\Software\\Anaconda3\\envs\\torch\\lib\\site-packages\\ipykernel_launcher.py:46: RuntimeWarning: invalid value encountered in true_divide\n",
      "D:\\Software\\Anaconda3\\envs\\torch\\lib\\site-packages\\ipykernel_launcher.py:46: RuntimeWarning: invalid value encountered in true_divide\n",
      "D:\\Software\\Anaconda3\\envs\\torch\\lib\\site-packages\\ipykernel_launcher.py:46: RuntimeWarning: invalid value encountered in true_divide\n",
      "D:\\Software\\Anaconda3\\envs\\torch\\lib\\site-packages\\ipykernel_launcher.py:46: RuntimeWarning: invalid value encountered in true_divide\n",
      "D:\\Software\\Anaconda3\\envs\\torch\\lib\\site-packages\\ipykernel_launcher.py:46: RuntimeWarning: invalid value encountered in true_divide\n"
     ]
    },
    {
     "name": "stdout",
     "output_type": "stream",
     "text": [
      "Epoch 89 Best Score: 0.10184010207695361, the Accuracy: 0.9135802469135802, Num of Features: 7\n",
      "Epoch 90 Best Score: 0.09669559178890183, the Accuracy: 0.9259259259259259, Num of Features: 12\n",
      "Epoch 91 Best Score: 0.10831277995579523, the Accuracy: 0.9259259259259259, Num of Features: 22\n",
      "Epoch 92 Best Score: 0.11198885268198797, the Accuracy: 0.9135802469135802, Num of Features: 17\n",
      "Epoch 93 Best Score: 0.09024268790316814, the Accuracy: 0.9259259259259259, Num of Features: 5\n",
      "Epoch 94 Best Score: 0.1065721349987784, the Accuracy: 0.9135802469135802, Num of Features: 12\n",
      "Epoch 95 Best Score: 0.09929305596873186, the Accuracy: 0.9135802469135802, Num of Features: 4\n",
      "Epoch 96 Best Score: 0.10184010207695361, the Accuracy: 0.9135802469135802, Num of Features: 7\n",
      "Epoch 97 Best Score: 0.10096803979622046, the Accuracy: 0.9135802469135802, Num of Features: 6\n",
      "Epoch 98 Best Score: 0.10096963009499182, the Accuracy: 0.9259259259259259, Num of Features: 16\n",
      "Epoch 99 Best Score: 0.10836545404836931, the Accuracy: 0.9012345679012346, Num of Features: 3\n",
      "The Best Ant Path:  [8. 0. 0. 0. 0. 0. 0. 0. 0. 0. 0. 0. 0. 0. 0. 0. 0. 0. 0. 0. 0. 0. 0. 0.\n",
      " 0. 0. 0. 0. 0. 0. 0. 0. 0. 0. 0. 0. 0.]\n",
      "The Best Score:  0.08782966508068978\n",
      "The Accuracy use Best Path:  0.9259259259259259\n"
     ]
    },
    {
     "name": "stderr",
     "output_type": "stream",
     "text": [
      "D:\\Software\\Anaconda3\\envs\\torch\\lib\\site-packages\\ipykernel_launcher.py:46: RuntimeWarning: invalid value encountered in true_divide\n",
      "D:\\Software\\Anaconda3\\envs\\torch\\lib\\site-packages\\ipykernel_launcher.py:46: RuntimeWarning: invalid value encountered in true_divide\n",
      "D:\\Software\\Anaconda3\\envs\\torch\\lib\\site-packages\\ipykernel_launcher.py:46: RuntimeWarning: invalid value encountered in true_divide\n",
      "D:\\Software\\Anaconda3\\envs\\torch\\lib\\site-packages\\ipykernel_launcher.py:46: RuntimeWarning: invalid value encountered in true_divide\n",
      "D:\\Software\\Anaconda3\\envs\\torch\\lib\\site-packages\\ipykernel_launcher.py:46: RuntimeWarning: invalid value encountered in true_divide\n"
     ]
    }
   ],
   "source": [
    "n_epochs = 100\r\n",
    "n_dims = train_data.shape[1]\r\n",
    "n_ants = 5\r\n",
    "print(\"the Num of the total features:\", n_dims)\r\n",
    "\r\n",
    "alpha = 1\r\n",
    "beta = 0.2\r\n",
    "omega = 0.8\r\n",
    "rho = 0.3\r\n",
    "mu = 0.7\r\n",
    "gamma = 0.8\r\n",
    "\r\n",
    "tau = np.ones([n_dims, n_dims]) # tau 即信息素矩阵\r\n",
    "eta = init_eta(train_data, train_label, test_data, test_label) # eta 即启发式信息\r\n",
    "print(\"init finishing\")\r\n",
    "feat_list = list(range(n_dims)) # feature 总list\r\n",
    "best_score = np.inf\r\n",
    "score_list = []\r\n",
    "acc_list = []\r\n",
    "\r\n",
    "# p_matrix = np.zeros((n_epochs, n_dims, n_dims))\r\n",
    "path_matrix = np.zeros((n_epochs, n_ants, n_dims))\r\n",
    "nf_matrix = np.zeros((n_epochs, n_ants))\r\n",
    "tau_matrix = np.zeros((n_epochs, n_dims, n_dims))\r\n",
    "\r\n",
    "for epoch in range(n_epochs):\r\n",
    "\r\n",
    "    # ============ apply once fs ============\r\n",
    "    ant_path = np.zeros([n_ants, n_dims])           # 初始化每只蚂蚁在当前迭代中的路径, 88 means NULL\r\n",
    "    ant_acc = np.zeros(n_ants)\r\n",
    "    ant_score = np.zeros(n_ants)\r\n",
    "    n_feats = np.random.randint(1, n_dims, size=n_ants) # 初始化每只蚂蚁需要选择的特征数\r\n",
    "\r\n",
    "    for i in range(n_ants):\r\n",
    "\r\n",
    "        ant_path[i, 0] = np.random.randint(n_dims)  # 为每只蚂蚁选择起始节点（特征）\r\n",
    "        # ant_path[i, 0] = i\r\n",
    "        visited = []                                # 已选择的 feature list\r\n",
    "        \r\n",
    "        for d in range(n_feats[i]-1):               # 共选择 n_feats-1 次特征\r\n",
    "            visited.append(ant_path[i, d])          # 更新 selected 表\r\n",
    "            # eta = update_eta(train_data, train_label, test_data, test_label, visited)\r\n",
    "                                                    # 更新启发式信息, eta = TPR / d, array(n_dims,)\r\n",
    "            p = (tau[int(visited[-1])] ** alpha) * (eta[int(visited[-1])] ** beta)\r\n",
    "            p[[int(i) for i in visited]] = 0\r\n",
    "            prob = p / sum(p)                       # 计算路径转移矩阵\r\n",
    "            route = select_route(prob)              # 寻找下一个特征\r\n",
    "            ant_path[i, d+1] = route\r\n",
    "\r\n",
    "    path_matrix[epoch] = ant_path\r\n",
    "    nf_matrix[epoch] = n_feats\r\n",
    "\r\n",
    "    # ==== evaluate each selected subset ====\r\n",
    "    for j in range(n_ants):\r\n",
    "        selected = list(ant_path[j, :n_feats[j]])\r\n",
    "        f, acc = fitness_func(train_data, train_label, test_data, test_label, selected, omega)\r\n",
    "                                                    # 计算适应度函数\r\n",
    "        ant_score[j] = f\r\n",
    "        ant_acc[j] = acc\r\n",
    "        if f <= best_score:                          # 保存为全局的最优解\r\n",
    "            best_path = ant_path[j]\r\n",
    "            best_score = f\r\n",
    "            best_path_acc = acc\r\n",
    "    \r\n",
    "    best_ant = np.argmin(ant_score)                 # 最优蚂蚁\r\n",
    "    near_ant = np.argmin(np.concatenate([ant_score[:best_ant], [0], ant_score[best_ant+1:]]))\r\n",
    "                                                    # 第二优蚂蚁\r\n",
    "    print(\"Epoch {} Best Score: {}, the Accuracy: {}, Num of Features: {}\".format(\\\r\n",
    "        epoch, ant_score[best_ant], ant_acc[best_ant], n_feats[best_ant]))\r\n",
    "    \r\n",
    "    score_list.append(ant_score[best_ant])\r\n",
    "    acc_list.append(ant_acc[best_ant])\r\n",
    "\r\n",
    "    # ======== update the eta matrix ========\r\n",
    "    \r\n",
    "    # stage 1 updating\r\n",
    "    deta_tau_k = np.zeros([n_ants, n_dims, n_dims])\r\n",
    "    for k in range(n_ants):\r\n",
    "        value = mu * ant_acc[k] + (1-mu) / n_feats[k] # 更新值\r\n",
    "        for m in range(n_feats[k]-1):\r\n",
    "            a, b = int(ant_path[k, m]), int(ant_path[k, m+1])\r\n",
    "            deta_tau_k[int(k), a, b] = value\r\n",
    "\r\n",
    "    deta_tau_1 = np.sum(deta_tau_k, 0)\r\n",
    "    \r\n",
    "    # update\r\n",
    "    tau = (1-rho) * tau + rho * deta_tau_1\r\n",
    "    tau_matrix[epoch] = tau\r\n",
    "\r\n",
    "print(\"The Best Ant Path: \", best_path)\r\n",
    "print(\"The Best Score: \", best_score)\r\n",
    "print(\"The Accuracy use Best Path: \", best_path_acc)\r\n",
    "\r\n"
   ]
  },
  {
   "cell_type": "code",
   "execution_count": 109,
   "metadata": {},
   "outputs": [],
   "source": [
    "tau_matrix = (tau_matrix - np.max(tau_matrix)) / (np.max(tau_matrix) - np.min(tau_matrix))"
   ]
  },
  {
   "cell_type": "code",
   "execution_count": 110,
   "metadata": {},
   "outputs": [
    {
     "data": {
      "image/png": "[encoded data removed]",
      "text/plain": "<Figure size 432x288 with 1 Axes>"
     },
     "metadata": {
      "needs_background": "light"
     },
     "output_type": "display_data"
    }
   ],
   "source": [
    "%matplotlib inline\r\n",
    "\r\n",
    "import matplotlib.pyplot as plt\r\n",
    "\r\n",
    "plt.figure(\"tau matrix\") # 图像窗口名称\r\n",
    "plt.imshow(tau_matrix[0], cmap='viridis')\r\n",
    "plt.axis('off') # 关掉坐标轴为 off\r\n",
    "plt.title('tau matrix epoch=1') # 图像题目\r\n",
    "plt.show()"
   ]
  },
  {
   "cell_type": "code",
   "execution_count": 111,
   "metadata": {},
   "outputs": [
    {
     "data": {
      "image/png": "[encoded data removed]",
      "text/plain": "<Figure size 432x288 with 1 Axes>"
     },
     "metadata": {
      "needs_background": "light"
     },
     "output_type": "display_data"
    }
   ],
   "source": [
    "plt.figure(\"tau matrix\") # 图像窗口名称\r\n",
    "plt.imshow(tau_matrix[10], cmap='viridis')\r\n",
    "plt.axis('off') # 关掉坐标轴为 off\r\n",
    "plt.title('tau matrix epoch=10') # 图像题目\r\n",
    "plt.show()"
   ]
  },
  {
   "cell_type": "code",
   "execution_count": null,
   "metadata": {},
   "outputs": [],
   "source": []
  }
 ],
 "metadata": {
  "kernelspec": {
   "display_name": "Python 3.6.12 64-bit ('torch': conda)",
   "name": "python3612jvsc74a57bd0fa1753e247323262133cf77db1467c5bc86a9e2562626304a5b3b9a217888aef"
  },
  "language_info": {
   "codemirror_mode": {
    "name": "ipython",
    "version": 3
   },
   "file_extension": ".py",
   "mimetype": "text/x-python",
   "name": "python",
   "nbconvert_exporter": "python",
   "pygments_lexer": "ipython3",
   "version": "3.6.12"
  },
  "orig_nbformat": 2
 },
 "nbformat": 4,
 "nbformat_minor": 2
}